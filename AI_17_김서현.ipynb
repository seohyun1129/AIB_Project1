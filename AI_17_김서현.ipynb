{
  "nbformat": 4,
  "nbformat_minor": 0,
  "metadata": {
    "colab": {
      "provenance": []
    },
    "kernelspec": {
      "name": "python3",
      "display_name": "Python 3"
    },
    "language_info": {
      "name": "python"
    }
  },
  "cells": [
    {
      "cell_type": "markdown",
      "source": [
        "## 게임 회사의 데이터 팀 - **다음 분기에 어떤 게임을 설계해야 할까**\n",
        "  **비데이터 직군에게 발표를 한다고 가정 !**\n",
        "\n",
        "Name : 게임의 이름입니다.  \n",
        "Platform : 게임이 지원되는 플랫폼의 이름입니다.  \n",
        "Year : 게임이 출시된 연도입니다.  \n",
        "Genre : 게임의 장르입니다.  \n",
        "Publisher : 게임을 배급한 회사입니다.  \n",
        "NA_Sales : 북미지역에서의 출고량입니다.  \n",
        "EU_Sales : 유럽지역에서의 출고량입니다.  \n",
        "JP_Sales : 일본지역에서의 출고량입니다.  \n",
        "Other_Sales : 기타지역에서의 출고량입니다.  "
      ],
      "metadata": {
        "id": "NABhPXkUKPdY"
      }
    },
    {
      "cell_type": "markdown",
      "source": [
        "### 필수 조건\n",
        "다음 필수 조건은 전부 만족해야 2점을 받을 수 있습니다.\n",
        "\n",
        "- 영상 길이 조건을 만족했는가?  \n",
        "  - 영상이 5분 ~ 10분 사이로 제작됨\n",
        "\n",
        "- 지역에 따라서 선호하는 게임 장르가 다를까 라는 질문에 대답했는가?  \n",
        "  - 지역은 어떻게 구분했는지 설명함  \n",
        "  - 지역별로 선호하는 게임의 장르를 파악함  \n",
        "  - 지역별로 선호하는 게임의 장르가 왜 같다고/다르다고 생각했는지를 설명함  \n",
        "\n",
        "- 연도별 게임의 트렌드가 있을까 라는 질문에 대답했는가?  \n",
        "  - 트렌드는 어떤 것을 기준으로 파악했는지 설명함  \n",
        "  - 연도별로 트렌드가 존재하는지 여부를 언급함  \n",
        "  - 왜 존재한다/존재하지 않는다고 생각했는지 설명함  \n",
        "\n",
        "- 인기가 많은 게임에 대한 분석 및 시각화 프로세스가 포함되었는가?  \n",
        "  - 인기가 많다는 것을 어떻게 정의했는지 설명함  \n",
        "  - 해당 게임이 왜 인기가 많다고 생각했는지 설명함  \n",
        "  - 시각화를 통해 무엇을 나타내고자 하는지를 고려하여 파라미터를 조정함 (제목, 축이름 필수, 그 외 파라미터는 선택사항)  \n",
        "  - 해당 분석을 통해 어떤 인사이트를 도출할 수 있는지 설명함  \n",
        "\n",
        "- 다음 분기에 어떤 게임을 설계해야 하는지에 대한 결론이 제시되었는가?  \n",
        "   - 분석에 대한 결론이 영상에서 제시됨  \n",
        "\n",
        "### 추가 조건 (Advanced Goal)  \n",
        "다음 추가 조건은 1개 이상 만족 시 3점을 받을 수 있습니다.  \n",
        "\n",
        "- 디테일한 시점 및 목표 설정이 문제 정의 과정에서 제시되었는가?  \n",
        "- 도메인 지식을 활용하여 비지니스 인사이트를 도출하였는가?  \n",
        "- 제공된 데이터셋 외에 추가 데이터를 사용하였는가?  \n",
        "- 통계적 기법을 활용한 가설 검정을 진행하였는가?  \n",
        "- 완성도 높은 시각화를 보여주었는가?  \n",
        "- 가독성, 목적성이 잘 드러나는 시각화  \n",
        "  \n",
        "더불어 유의미한 인사이트를 도출하기 위해서는  \n",
        "\n",
        "- 다음 분기가 언제인지\n",
        "- 회사의 규모는 어느정도인지  \n",
        "와 같은 디테일한 상황 설정과 더불어 '왜' 이러한 결론을 도출하였는지에 대한 고민이 필요합니다.\n",
        "위의 4가지 내용에 여러분들의 개인적인 분석 목표, 질문을 더하여 프로젝트를 완성하세요."
      ],
      "metadata": {
        "id": "O01rS6rDLXjV"
      }
    },
    {
      "cell_type": "markdown",
      "source": [
        "--------------------------"
      ],
      "metadata": {
        "id": "ZLsTZXv_B8H1"
      }
    },
    {
      "cell_type": "code",
      "execution_count": 3,
      "metadata": {
        "id": "B6X3z7_5EXAD"
      },
      "outputs": [],
      "source": [
        "import numpy as np\n",
        "import pandas as pd\n",
        "import matplotlib.pyplot as plt\n",
        "import seaborn as sns\n",
        "import scipy.stats as stats"
      ]
    },
    {
      "cell_type": "code",
      "source": [
        "df = pd.read_csv(\"/content/vgames2.csv\")"
      ],
      "metadata": {
        "id": "LTIT1DjNJ0rZ"
      },
      "execution_count": 4,
      "outputs": []
    },
    {
      "cell_type": "code",
      "source": [
        "df.head()"
      ],
      "metadata": {
        "colab": {
          "base_uri": "https://localhost:8080/",
          "height": 319
        },
        "id": "kaj91vpDJ9XJ",
        "outputId": "c29f40c9-c7ea-463e-d60f-702e19e73b2a"
      },
      "execution_count": 5,
      "outputs": [
        {
          "output_type": "execute_result",
          "data": {
            "text/plain": [
              "   Unnamed: 0                                            Name Platform  \\\n",
              "0           1                    Candace Kane's Candy Factory       DS   \n",
              "1           2                                  The Munchables      Wii   \n",
              "2           3  Otome wa Oanesama Boku ni Koi Shiteru Portable      PSP   \n",
              "3           4                Deal or No Deal: Special Edition       DS   \n",
              "4           5       Ben 10 Ultimate Alien: Cosmic Destruction      PS3   \n",
              "\n",
              "     Year      Genre           Publisher NA_Sales EU_Sales JP_Sales  \\\n",
              "0  2008.0     Action           Destineer     0.04        0        0   \n",
              "1  2009.0     Action  Namco Bandai Games     0.17        0        0   \n",
              "2  2010.0  Adventure           Alchemist        0        0     0.02   \n",
              "3  2010.0       Misc           Zoo Games     0.04        0        0   \n",
              "4  2010.0   Platform         D3Publisher     0.12     0.09        0   \n",
              "\n",
              "  Other_Sales  \n",
              "0           0  \n",
              "1        0.01  \n",
              "2           0  \n",
              "3           0  \n",
              "4        0.04  "
            ],
            "text/html": [
              "\n",
              "  <div id=\"df-cf912ee6-d14d-4681-a89b-0ab90ec8c06d\">\n",
              "    <div class=\"colab-df-container\">\n",
              "      <div>\n",
              "<style scoped>\n",
              "    .dataframe tbody tr th:only-of-type {\n",
              "        vertical-align: middle;\n",
              "    }\n",
              "\n",
              "    .dataframe tbody tr th {\n",
              "        vertical-align: top;\n",
              "    }\n",
              "\n",
              "    .dataframe thead th {\n",
              "        text-align: right;\n",
              "    }\n",
              "</style>\n",
              "<table border=\"1\" class=\"dataframe\">\n",
              "  <thead>\n",
              "    <tr style=\"text-align: right;\">\n",
              "      <th></th>\n",
              "      <th>Unnamed: 0</th>\n",
              "      <th>Name</th>\n",
              "      <th>Platform</th>\n",
              "      <th>Year</th>\n",
              "      <th>Genre</th>\n",
              "      <th>Publisher</th>\n",
              "      <th>NA_Sales</th>\n",
              "      <th>EU_Sales</th>\n",
              "      <th>JP_Sales</th>\n",
              "      <th>Other_Sales</th>\n",
              "    </tr>\n",
              "  </thead>\n",
              "  <tbody>\n",
              "    <tr>\n",
              "      <th>0</th>\n",
              "      <td>1</td>\n",
              "      <td>Candace Kane's Candy Factory</td>\n",
              "      <td>DS</td>\n",
              "      <td>2008.0</td>\n",
              "      <td>Action</td>\n",
              "      <td>Destineer</td>\n",
              "      <td>0.04</td>\n",
              "      <td>0</td>\n",
              "      <td>0</td>\n",
              "      <td>0</td>\n",
              "    </tr>\n",
              "    <tr>\n",
              "      <th>1</th>\n",
              "      <td>2</td>\n",
              "      <td>The Munchables</td>\n",
              "      <td>Wii</td>\n",
              "      <td>2009.0</td>\n",
              "      <td>Action</td>\n",
              "      <td>Namco Bandai Games</td>\n",
              "      <td>0.17</td>\n",
              "      <td>0</td>\n",
              "      <td>0</td>\n",
              "      <td>0.01</td>\n",
              "    </tr>\n",
              "    <tr>\n",
              "      <th>2</th>\n",
              "      <td>3</td>\n",
              "      <td>Otome wa Oanesama Boku ni Koi Shiteru Portable</td>\n",
              "      <td>PSP</td>\n",
              "      <td>2010.0</td>\n",
              "      <td>Adventure</td>\n",
              "      <td>Alchemist</td>\n",
              "      <td>0</td>\n",
              "      <td>0</td>\n",
              "      <td>0.02</td>\n",
              "      <td>0</td>\n",
              "    </tr>\n",
              "    <tr>\n",
              "      <th>3</th>\n",
              "      <td>4</td>\n",
              "      <td>Deal or No Deal: Special Edition</td>\n",
              "      <td>DS</td>\n",
              "      <td>2010.0</td>\n",
              "      <td>Misc</td>\n",
              "      <td>Zoo Games</td>\n",
              "      <td>0.04</td>\n",
              "      <td>0</td>\n",
              "      <td>0</td>\n",
              "      <td>0</td>\n",
              "    </tr>\n",
              "    <tr>\n",
              "      <th>4</th>\n",
              "      <td>5</td>\n",
              "      <td>Ben 10 Ultimate Alien: Cosmic Destruction</td>\n",
              "      <td>PS3</td>\n",
              "      <td>2010.0</td>\n",
              "      <td>Platform</td>\n",
              "      <td>D3Publisher</td>\n",
              "      <td>0.12</td>\n",
              "      <td>0.09</td>\n",
              "      <td>0</td>\n",
              "      <td>0.04</td>\n",
              "    </tr>\n",
              "  </tbody>\n",
              "</table>\n",
              "</div>\n",
              "      <button class=\"colab-df-convert\" onclick=\"convertToInteractive('df-cf912ee6-d14d-4681-a89b-0ab90ec8c06d')\"\n",
              "              title=\"Convert this dataframe to an interactive table.\"\n",
              "              style=\"display:none;\">\n",
              "        \n",
              "  <svg xmlns=\"http://www.w3.org/2000/svg\" height=\"24px\"viewBox=\"0 0 24 24\"\n",
              "       width=\"24px\">\n",
              "    <path d=\"M0 0h24v24H0V0z\" fill=\"none\"/>\n",
              "    <path d=\"M18.56 5.44l.94 2.06.94-2.06 2.06-.94-2.06-.94-.94-2.06-.94 2.06-2.06.94zm-11 1L8.5 8.5l.94-2.06 2.06-.94-2.06-.94L8.5 2.5l-.94 2.06-2.06.94zm10 10l.94 2.06.94-2.06 2.06-.94-2.06-.94-.94-2.06-.94 2.06-2.06.94z\"/><path d=\"M17.41 7.96l-1.37-1.37c-.4-.4-.92-.59-1.43-.59-.52 0-1.04.2-1.43.59L10.3 9.45l-7.72 7.72c-.78.78-.78 2.05 0 2.83L4 21.41c.39.39.9.59 1.41.59.51 0 1.02-.2 1.41-.59l7.78-7.78 2.81-2.81c.8-.78.8-2.07 0-2.86zM5.41 20L4 18.59l7.72-7.72 1.47 1.35L5.41 20z\"/>\n",
              "  </svg>\n",
              "      </button>\n",
              "      \n",
              "  <style>\n",
              "    .colab-df-container {\n",
              "      display:flex;\n",
              "      flex-wrap:wrap;\n",
              "      gap: 12px;\n",
              "    }\n",
              "\n",
              "    .colab-df-convert {\n",
              "      background-color: #E8F0FE;\n",
              "      border: none;\n",
              "      border-radius: 50%;\n",
              "      cursor: pointer;\n",
              "      display: none;\n",
              "      fill: #1967D2;\n",
              "      height: 32px;\n",
              "      padding: 0 0 0 0;\n",
              "      width: 32px;\n",
              "    }\n",
              "\n",
              "    .colab-df-convert:hover {\n",
              "      background-color: #E2EBFA;\n",
              "      box-shadow: 0px 1px 2px rgba(60, 64, 67, 0.3), 0px 1px 3px 1px rgba(60, 64, 67, 0.15);\n",
              "      fill: #174EA6;\n",
              "    }\n",
              "\n",
              "    [theme=dark] .colab-df-convert {\n",
              "      background-color: #3B4455;\n",
              "      fill: #D2E3FC;\n",
              "    }\n",
              "\n",
              "    [theme=dark] .colab-df-convert:hover {\n",
              "      background-color: #434B5C;\n",
              "      box-shadow: 0px 1px 3px 1px rgba(0, 0, 0, 0.15);\n",
              "      filter: drop-shadow(0px 1px 2px rgba(0, 0, 0, 0.3));\n",
              "      fill: #FFFFFF;\n",
              "    }\n",
              "  </style>\n",
              "\n",
              "      <script>\n",
              "        const buttonEl =\n",
              "          document.querySelector('#df-cf912ee6-d14d-4681-a89b-0ab90ec8c06d button.colab-df-convert');\n",
              "        buttonEl.style.display =\n",
              "          google.colab.kernel.accessAllowed ? 'block' : 'none';\n",
              "\n",
              "        async function convertToInteractive(key) {\n",
              "          const element = document.querySelector('#df-cf912ee6-d14d-4681-a89b-0ab90ec8c06d');\n",
              "          const dataTable =\n",
              "            await google.colab.kernel.invokeFunction('convertToInteractive',\n",
              "                                                     [key], {});\n",
              "          if (!dataTable) return;\n",
              "\n",
              "          const docLinkHtml = 'Like what you see? Visit the ' +\n",
              "            '<a target=\"_blank\" href=https://colab.research.google.com/notebooks/data_table.ipynb>data table notebook</a>'\n",
              "            + ' to learn more about interactive tables.';\n",
              "          element.innerHTML = '';\n",
              "          dataTable['output_type'] = 'display_data';\n",
              "          await google.colab.output.renderOutput(dataTable, element);\n",
              "          const docLink = document.createElement('div');\n",
              "          docLink.innerHTML = docLinkHtml;\n",
              "          element.appendChild(docLink);\n",
              "        }\n",
              "      </script>\n",
              "    </div>\n",
              "  </div>\n",
              "  "
            ]
          },
          "metadata": {},
          "execution_count": 5
        }
      ]
    },
    {
      "cell_type": "code",
      "source": [
        "df.info()"
      ],
      "metadata": {
        "colab": {
          "base_uri": "https://localhost:8080/"
        },
        "id": "gbUOh307J-lq",
        "outputId": "93a40d1f-6aa1-4df9-b2dd-c309cfeed8df"
      },
      "execution_count": 6,
      "outputs": [
        {
          "output_type": "stream",
          "name": "stdout",
          "text": [
            "<class 'pandas.core.frame.DataFrame'>\n",
            "RangeIndex: 16598 entries, 0 to 16597\n",
            "Data columns (total 10 columns):\n",
            " #   Column       Non-Null Count  Dtype  \n",
            "---  ------       --------------  -----  \n",
            " 0   Unnamed: 0   16598 non-null  int64  \n",
            " 1   Name         16598 non-null  object \n",
            " 2   Platform     16598 non-null  object \n",
            " 3   Year         16327 non-null  float64\n",
            " 4   Genre        16548 non-null  object \n",
            " 5   Publisher    16540 non-null  object \n",
            " 6   NA_Sales     16598 non-null  object \n",
            " 7   EU_Sales     16598 non-null  object \n",
            " 8   JP_Sales     16598 non-null  object \n",
            " 9   Other_Sales  16598 non-null  object \n",
            "dtypes: float64(1), int64(1), object(8)\n",
            "memory usage: 1.3+ MB\n"
          ]
        }
      ]
    },
    {
      "cell_type": "markdown",
      "source": [
        "## 전처리 & EDA"
      ],
      "metadata": {
        "id": "Je2DGf3Ts0q1"
      }
    },
    {
      "cell_type": "code",
      "source": [
        "# Unnamed: 0 컬럼 제거\n",
        "# Year, Genre, Publisher 결측치 제거 / 처리\n",
        "# Year 컬럼 - int로 변환\n",
        "# NA_Sales ~ Other_Sales 컬럼 - 이상한 관측치 처리하고 float로 변환"
      ],
      "metadata": {
        "id": "5GvPxSTZXMNn"
      },
      "execution_count": 7,
      "outputs": []
    },
    {
      "cell_type": "code",
      "source": [
        "# 데이터 복사해서 사용 (원본 데이터 보호)\n",
        "df_c = df"
      ],
      "metadata": {
        "id": "dZq8SFaEnKr7"
      },
      "execution_count": 8,
      "outputs": []
    },
    {
      "cell_type": "code",
      "source": [
        "df_c.isnull().sum()"
      ],
      "metadata": {
        "colab": {
          "base_uri": "https://localhost:8080/"
        },
        "id": "NNXDMnVZKGbz",
        "outputId": "d07f7e73-d818-441a-eddb-05f8b7928b2a"
      },
      "execution_count": 9,
      "outputs": [
        {
          "output_type": "execute_result",
          "data": {
            "text/plain": [
              "Unnamed: 0       0\n",
              "Name             0\n",
              "Platform         0\n",
              "Year           271\n",
              "Genre           50\n",
              "Publisher       58\n",
              "NA_Sales         0\n",
              "EU_Sales         0\n",
              "JP_Sales         0\n",
              "Other_Sales      0\n",
              "dtype: int64"
            ]
          },
          "metadata": {},
          "execution_count": 9
        }
      ]
    },
    {
      "cell_type": "code",
      "source": [
        "df_c.isnull().sum() / df_c.shape[0]\n",
        "\n",
        "## Year은 전체에서 1%, Genre과 Publisher은 전체에서 0.3%의 결측치가 존재하며 이는 전체 데이터에서 아주 작은 비율이므로\n",
        "## 세 컬럼에 존재하는 결측치가 있는 행을 모두 삭제하기로 함"
      ],
      "metadata": {
        "colab": {
          "base_uri": "https://localhost:8080/"
        },
        "id": "UE5zZXARXHbs",
        "outputId": "2915c2f6-0185-4731-907d-86411320b0b6"
      },
      "execution_count": 10,
      "outputs": [
        {
          "output_type": "execute_result",
          "data": {
            "text/plain": [
              "Unnamed: 0     0.000000\n",
              "Name           0.000000\n",
              "Platform       0.000000\n",
              "Year           0.016327\n",
              "Genre          0.003012\n",
              "Publisher      0.003494\n",
              "NA_Sales       0.000000\n",
              "EU_Sales       0.000000\n",
              "JP_Sales       0.000000\n",
              "Other_Sales    0.000000\n",
              "dtype: float64"
            ]
          },
          "metadata": {},
          "execution_count": 10
        }
      ]
    },
    {
      "cell_type": "code",
      "source": [
        "# 불필요한 Unnamed: 0 컬럼 제거\n",
        "df_c.drop(columns = 'Unnamed: 0', inplace = True)"
      ],
      "metadata": {
        "id": "FYGlAGjnKIta"
      },
      "execution_count": 11,
      "outputs": []
    },
    {
      "cell_type": "code",
      "source": [
        "# 결측치 있는 레이블 제거\n",
        "df_c = df_c.dropna().reset_index(drop = True)\n",
        "df_c.tail()"
      ],
      "metadata": {
        "colab": {
          "base_uri": "https://localhost:8080/",
          "height": 206
        },
        "id": "1F66eNhNYz4o",
        "outputId": "bb17f742-0c94-42a4-9b6a-a679573e6814"
      },
      "execution_count": 12,
      "outputs": [
        {
          "output_type": "execute_result",
          "data": {
            "text/plain": [
              "                              Name Platform    Year     Genre  \\\n",
              "16236      Ice Age 2: The Meltdown       GC  2006.0  Platform   \n",
              "16237  Rainbow Islands: Revolution      PSP  2005.0    Action   \n",
              "16238                     NBA 2K16      PS3  2015.0    Sports   \n",
              "16239  Toukiden: The Age of Demons      PSV  2013.0    Action   \n",
              "16240     The King of Fighters '95       PS  1996.0  Fighting   \n",
              "\n",
              "                         Publisher NA_Sales EU_Sales JP_Sales Other_Sales  \n",
              "16236                Vivendi Games     0.15     0.04        0        0.01  \n",
              "16237            Rising Star Games     0.01        0        0           0  \n",
              "16238         Take-Two Interactive     0.44     0.19     0.03        0.13  \n",
              "16239                   Tecmo Koei     0.05     0.05     0.25        0.03  \n",
              "16240  Sony Computer Entertainment        0        0     0.16        0.01  "
            ],
            "text/html": [
              "\n",
              "  <div id=\"df-f94ae55c-6e09-4ab0-a56b-04ab9869b787\">\n",
              "    <div class=\"colab-df-container\">\n",
              "      <div>\n",
              "<style scoped>\n",
              "    .dataframe tbody tr th:only-of-type {\n",
              "        vertical-align: middle;\n",
              "    }\n",
              "\n",
              "    .dataframe tbody tr th {\n",
              "        vertical-align: top;\n",
              "    }\n",
              "\n",
              "    .dataframe thead th {\n",
              "        text-align: right;\n",
              "    }\n",
              "</style>\n",
              "<table border=\"1\" class=\"dataframe\">\n",
              "  <thead>\n",
              "    <tr style=\"text-align: right;\">\n",
              "      <th></th>\n",
              "      <th>Name</th>\n",
              "      <th>Platform</th>\n",
              "      <th>Year</th>\n",
              "      <th>Genre</th>\n",
              "      <th>Publisher</th>\n",
              "      <th>NA_Sales</th>\n",
              "      <th>EU_Sales</th>\n",
              "      <th>JP_Sales</th>\n",
              "      <th>Other_Sales</th>\n",
              "    </tr>\n",
              "  </thead>\n",
              "  <tbody>\n",
              "    <tr>\n",
              "      <th>16236</th>\n",
              "      <td>Ice Age 2: The Meltdown</td>\n",
              "      <td>GC</td>\n",
              "      <td>2006.0</td>\n",
              "      <td>Platform</td>\n",
              "      <td>Vivendi Games</td>\n",
              "      <td>0.15</td>\n",
              "      <td>0.04</td>\n",
              "      <td>0</td>\n",
              "      <td>0.01</td>\n",
              "    </tr>\n",
              "    <tr>\n",
              "      <th>16237</th>\n",
              "      <td>Rainbow Islands: Revolution</td>\n",
              "      <td>PSP</td>\n",
              "      <td>2005.0</td>\n",
              "      <td>Action</td>\n",
              "      <td>Rising Star Games</td>\n",
              "      <td>0.01</td>\n",
              "      <td>0</td>\n",
              "      <td>0</td>\n",
              "      <td>0</td>\n",
              "    </tr>\n",
              "    <tr>\n",
              "      <th>16238</th>\n",
              "      <td>NBA 2K16</td>\n",
              "      <td>PS3</td>\n",
              "      <td>2015.0</td>\n",
              "      <td>Sports</td>\n",
              "      <td>Take-Two Interactive</td>\n",
              "      <td>0.44</td>\n",
              "      <td>0.19</td>\n",
              "      <td>0.03</td>\n",
              "      <td>0.13</td>\n",
              "    </tr>\n",
              "    <tr>\n",
              "      <th>16239</th>\n",
              "      <td>Toukiden: The Age of Demons</td>\n",
              "      <td>PSV</td>\n",
              "      <td>2013.0</td>\n",
              "      <td>Action</td>\n",
              "      <td>Tecmo Koei</td>\n",
              "      <td>0.05</td>\n",
              "      <td>0.05</td>\n",
              "      <td>0.25</td>\n",
              "      <td>0.03</td>\n",
              "    </tr>\n",
              "    <tr>\n",
              "      <th>16240</th>\n",
              "      <td>The King of Fighters '95</td>\n",
              "      <td>PS</td>\n",
              "      <td>1996.0</td>\n",
              "      <td>Fighting</td>\n",
              "      <td>Sony Computer Entertainment</td>\n",
              "      <td>0</td>\n",
              "      <td>0</td>\n",
              "      <td>0.16</td>\n",
              "      <td>0.01</td>\n",
              "    </tr>\n",
              "  </tbody>\n",
              "</table>\n",
              "</div>\n",
              "      <button class=\"colab-df-convert\" onclick=\"convertToInteractive('df-f94ae55c-6e09-4ab0-a56b-04ab9869b787')\"\n",
              "              title=\"Convert this dataframe to an interactive table.\"\n",
              "              style=\"display:none;\">\n",
              "        \n",
              "  <svg xmlns=\"http://www.w3.org/2000/svg\" height=\"24px\"viewBox=\"0 0 24 24\"\n",
              "       width=\"24px\">\n",
              "    <path d=\"M0 0h24v24H0V0z\" fill=\"none\"/>\n",
              "    <path d=\"M18.56 5.44l.94 2.06.94-2.06 2.06-.94-2.06-.94-.94-2.06-.94 2.06-2.06.94zm-11 1L8.5 8.5l.94-2.06 2.06-.94-2.06-.94L8.5 2.5l-.94 2.06-2.06.94zm10 10l.94 2.06.94-2.06 2.06-.94-2.06-.94-.94-2.06-.94 2.06-2.06.94z\"/><path d=\"M17.41 7.96l-1.37-1.37c-.4-.4-.92-.59-1.43-.59-.52 0-1.04.2-1.43.59L10.3 9.45l-7.72 7.72c-.78.78-.78 2.05 0 2.83L4 21.41c.39.39.9.59 1.41.59.51 0 1.02-.2 1.41-.59l7.78-7.78 2.81-2.81c.8-.78.8-2.07 0-2.86zM5.41 20L4 18.59l7.72-7.72 1.47 1.35L5.41 20z\"/>\n",
              "  </svg>\n",
              "      </button>\n",
              "      \n",
              "  <style>\n",
              "    .colab-df-container {\n",
              "      display:flex;\n",
              "      flex-wrap:wrap;\n",
              "      gap: 12px;\n",
              "    }\n",
              "\n",
              "    .colab-df-convert {\n",
              "      background-color: #E8F0FE;\n",
              "      border: none;\n",
              "      border-radius: 50%;\n",
              "      cursor: pointer;\n",
              "      display: none;\n",
              "      fill: #1967D2;\n",
              "      height: 32px;\n",
              "      padding: 0 0 0 0;\n",
              "      width: 32px;\n",
              "    }\n",
              "\n",
              "    .colab-df-convert:hover {\n",
              "      background-color: #E2EBFA;\n",
              "      box-shadow: 0px 1px 2px rgba(60, 64, 67, 0.3), 0px 1px 3px 1px rgba(60, 64, 67, 0.15);\n",
              "      fill: #174EA6;\n",
              "    }\n",
              "\n",
              "    [theme=dark] .colab-df-convert {\n",
              "      background-color: #3B4455;\n",
              "      fill: #D2E3FC;\n",
              "    }\n",
              "\n",
              "    [theme=dark] .colab-df-convert:hover {\n",
              "      background-color: #434B5C;\n",
              "      box-shadow: 0px 1px 3px 1px rgba(0, 0, 0, 0.15);\n",
              "      filter: drop-shadow(0px 1px 2px rgba(0, 0, 0, 0.3));\n",
              "      fill: #FFFFFF;\n",
              "    }\n",
              "  </style>\n",
              "\n",
              "      <script>\n",
              "        const buttonEl =\n",
              "          document.querySelector('#df-f94ae55c-6e09-4ab0-a56b-04ab9869b787 button.colab-df-convert');\n",
              "        buttonEl.style.display =\n",
              "          google.colab.kernel.accessAllowed ? 'block' : 'none';\n",
              "\n",
              "        async function convertToInteractive(key) {\n",
              "          const element = document.querySelector('#df-f94ae55c-6e09-4ab0-a56b-04ab9869b787');\n",
              "          const dataTable =\n",
              "            await google.colab.kernel.invokeFunction('convertToInteractive',\n",
              "                                                     [key], {});\n",
              "          if (!dataTable) return;\n",
              "\n",
              "          const docLinkHtml = 'Like what you see? Visit the ' +\n",
              "            '<a target=\"_blank\" href=https://colab.research.google.com/notebooks/data_table.ipynb>data table notebook</a>'\n",
              "            + ' to learn more about interactive tables.';\n",
              "          element.innerHTML = '';\n",
              "          dataTable['output_type'] = 'display_data';\n",
              "          await google.colab.output.renderOutput(dataTable, element);\n",
              "          const docLink = document.createElement('div');\n",
              "          docLink.innerHTML = docLinkHtml;\n",
              "          element.appendChild(docLink);\n",
              "        }\n",
              "      </script>\n",
              "    </div>\n",
              "  </div>\n",
              "  "
            ]
          },
          "metadata": {},
          "execution_count": 12
        }
      ]
    },
    {
      "cell_type": "code",
      "source": [
        "# Year 컬럼 integer로 변환\n",
        "df_c.Year = df_c.Year.astype('int')\n",
        "df_c.Year"
      ],
      "metadata": {
        "colab": {
          "base_uri": "https://localhost:8080/"
        },
        "id": "29ZsEq-mbYBh",
        "outputId": "28bf2b9f-9671-4c92-fb73-d9ca3d6f8161"
      },
      "execution_count": 13,
      "outputs": [
        {
          "output_type": "execute_result",
          "data": {
            "text/plain": [
              "0        2008\n",
              "1        2009\n",
              "2        2010\n",
              "3        2010\n",
              "4        2010\n",
              "         ... \n",
              "16236    2006\n",
              "16237    2005\n",
              "16238    2015\n",
              "16239    2013\n",
              "16240    1996\n",
              "Name: Year, Length: 16241, dtype: int64"
            ]
          },
          "metadata": {},
          "execution_count": 13
        }
      ]
    },
    {
      "cell_type": "code",
      "source": [
        "df_c.Year.describe()\n",
        "\n",
        "# 최소값이 0?"
      ],
      "metadata": {
        "colab": {
          "base_uri": "https://localhost:8080/"
        },
        "id": "0oF8LW1fsouR",
        "outputId": "fcdcdcbe-7a63-449e-8a65-73c8e7453618"
      },
      "execution_count": 14,
      "outputs": [
        {
          "output_type": "execute_result",
          "data": {
            "text/plain": [
              "count    16241.000000\n",
              "mean      1994.178437\n",
              "std        155.484265\n",
              "min          0.000000\n",
              "25%       2003.000000\n",
              "50%       2007.000000\n",
              "75%       2010.000000\n",
              "max       2020.000000\n",
              "Name: Year, dtype: float64"
            ]
          },
          "metadata": {},
          "execution_count": 14
        }
      ]
    },
    {
      "cell_type": "code",
      "source": [
        "plt.boxplot(df_c.Year)"
      ],
      "metadata": {
        "colab": {
          "base_uri": "https://localhost:8080/",
          "height": 411
        },
        "id": "b8MNVUOptKIK",
        "outputId": "21766d73-4214-4023-fdae-ab826a905810"
      },
      "execution_count": 15,
      "outputs": [
        {
          "output_type": "execute_result",
          "data": {
            "text/plain": [
              "{'whiskers': [<matplotlib.lines.Line2D at 0x7fd621ad55b0>,\n",
              "  <matplotlib.lines.Line2D at 0x7fd621ad5910>],\n",
              " 'caps': [<matplotlib.lines.Line2D at 0x7fd621ad5c70>,\n",
              "  <matplotlib.lines.Line2D at 0x7fd621ad5fd0>],\n",
              " 'boxes': [<matplotlib.lines.Line2D at 0x7fd621ad5250>],\n",
              " 'medians': [<matplotlib.lines.Line2D at 0x7fd621a65370>],\n",
              " 'fliers': [<matplotlib.lines.Line2D at 0x7fd621a65670>],\n",
              " 'means': []}"
            ]
          },
          "metadata": {},
          "execution_count": 15
        },
        {
          "output_type": "display_data",
          "data": {
            "text/plain": [
              "<Figure size 432x288 with 1 Axes>"
            ],
            "image/png": "[encoded data removed]"
          },
          "metadata": {
            "needs_background": "light"
          }
        }
      ]
    },
    {
      "cell_type": "code",
      "source": [
        "# 세계 최초의 영화가 1895년작 인 것을 감안하여 Year 변수가 1895보다 작은 값들 확인\n",
        "df_c.Year[df_c.Year < 1895]"
      ],
      "metadata": {
        "colab": {
          "base_uri": "https://localhost:8080/"
        },
        "id": "EW9MYB_1t6I8",
        "outputId": "dd800ffa-3ce9-4ea6-b2c5-38ae653cb599"
      },
      "execution_count": 16,
      "outputs": [
        {
          "output_type": "execute_result",
          "data": {
            "text/plain": [
              "72        9\n",
              "79       97\n",
              "210      11\n",
              "299      15\n",
              "758       3\n",
              "         ..\n",
              "15641    94\n",
              "15756     8\n",
              "15801     8\n",
              "16042     0\n",
              "16127    98\n",
              "Name: Year, Length: 100, dtype: int64"
            ]
          },
          "metadata": {},
          "execution_count": 16
        }
      ]
    },
    {
      "cell_type": "code",
      "source": [
        "len(df_c.Year[df_c.Year < 1000]) / df_c.shape[0]"
      ],
      "metadata": {
        "colab": {
          "base_uri": "https://localhost:8080/"
        },
        "id": "ZaEndb7etYum",
        "outputId": "78a4fe5b-ab3c-4dea-f45c-1f997c2bdafb"
      },
      "execution_count": 17,
      "outputs": [
        {
          "output_type": "execute_result",
          "data": {
            "text/plain": [
              "0.006157256326580876"
            ]
          },
          "metadata": {},
          "execution_count": 17
        }
      ]
    },
    {
      "cell_type": "code",
      "source": [
        "# 1895보다 작은 값들은 어떤 값이 잘못 입력된 것인지 알 수 없고 현재까지 전처리한 데이터 크기의 6%이기 때문에 제거하기로 결정\n",
        "idx_1895 = df_c[df_c.Year < 1895].index\n",
        "df_c = df_c.drop(index = idx_1895).reset_index(drop = True)"
      ],
      "metadata": {
        "id": "skCjdMZfuQRc"
      },
      "execution_count": 18,
      "outputs": []
    },
    {
      "cell_type": "code",
      "source": [
        "plt.boxplot(df_c.Year)"
      ],
      "metadata": {
        "colab": {
          "base_uri": "https://localhost:8080/",
          "height": 411
        },
        "id": "8wEk0aFGy7fO",
        "outputId": "4146dc36-cbfa-497f-ea24-f9ff45fe143c"
      },
      "execution_count": 19,
      "outputs": [
        {
          "output_type": "execute_result",
          "data": {
            "text/plain": [
              "{'whiskers': [<matplotlib.lines.Line2D at 0x7fd6215aa3d0>,\n",
              "  <matplotlib.lines.Line2D at 0x7fd6215aa730>],\n",
              " 'caps': [<matplotlib.lines.Line2D at 0x7fd6215aaa90>,\n",
              "  <matplotlib.lines.Line2D at 0x7fd6215aadf0>],\n",
              " 'boxes': [<matplotlib.lines.Line2D at 0x7fd6215aa070>],\n",
              " 'medians': [<matplotlib.lines.Line2D at 0x7fd6215b6190>],\n",
              " 'fliers': [<matplotlib.lines.Line2D at 0x7fd6215b6490>],\n",
              " 'means': []}"
            ]
          },
          "metadata": {},
          "execution_count": 19
        },
        {
          "output_type": "display_data",
          "data": {
            "text/plain": [
              "<Figure size 432x288 with 1 Axes>"
            ],
            "image/png": "[encoded data removed]"
          },
          "metadata": {
            "needs_background": "light"
          }
        }
      ]
    },
    {
      "cell_type": "code",
      "source": [
        "df_c.Year.describe()"
      ],
      "metadata": {
        "colab": {
          "base_uri": "https://localhost:8080/"
        },
        "id": "8tlOJiIovahz",
        "outputId": "11cf37e9-9814-4a1d-bc31-965768265b65"
      },
      "execution_count": 20,
      "outputs": [
        {
          "output_type": "execute_result",
          "data": {
            "text/plain": [
              "count    16141.000000\n",
              "mean      2006.406356\n",
              "std          5.830780\n",
              "min       1980.000000\n",
              "25%       2003.000000\n",
              "50%       2007.000000\n",
              "75%       2010.000000\n",
              "max       2020.000000\n",
              "Name: Year, dtype: float64"
            ]
          },
          "metadata": {},
          "execution_count": 20
        }
      ]
    },
    {
      "cell_type": "code",
      "source": [
        "# df.NA_Sales = df.NA_Sales.astype(np.float)\n",
        "# ValueError: could not convert string to float: '480K' 오류 발생"
      ],
      "metadata": {
        "id": "q72oh-CZhRr3"
      },
      "execution_count": 21,
      "outputs": []
    },
    {
      "cell_type": "code",
      "source": [
        "df_c.NA_Sales[df_c.NA_Sales.str.contains('M') | df_c.NA_Sales.str.contains('K')]"
      ],
      "metadata": {
        "colab": {
          "base_uri": "https://localhost:8080/"
        },
        "id": "nD37q30udYJQ",
        "outputId": "b43424f1-aa57-4ec8-e822-15389800392f"
      },
      "execution_count": 22,
      "outputs": [
        {
          "output_type": "execute_result",
          "data": {
            "text/plain": [
              "10        480K\n",
              "44         60K\n",
              "140         0K\n",
              "435      0.58M\n",
              "446      0.25M\n",
              "         ...  \n",
              "15748     120K\n",
              "15880     720K\n",
              "15957    0.53M\n",
              "16037     470K\n",
              "16122     320K\n",
              "Name: NA_Sales, Length: 188, dtype: object"
            ]
          },
          "metadata": {},
          "execution_count": 22
        }
      ]
    },
    {
      "cell_type": "code",
      "source": [
        "idx_NA = df_c[df_c.NA_Sales.str.contains('K')].index\n",
        "idx_EU = df_c[df_c.EU_Sales.str.contains('K')].index\n",
        "idx_JP = df_c[df_c.JP_Sales.str.contains('K')].index\n",
        "idx_Other = df_c[df_c.Other_Sales.str.contains('K')].index"
      ],
      "metadata": {
        "id": "BoYUwLUPmGrN"
      },
      "execution_count": 23,
      "outputs": []
    },
    {
      "cell_type": "markdown",
      "source": [
        "출고량 데이터 중 \n",
        "K는 1,000(천)을 의미,   \n",
        "M는 1,000,000(백만)을 의미하므로  \n",
        "출고량의 단위가 백만 단위임을 짐작할 수 있다.  \n",
        "→ K와 M를 제거하고 10 이상인 데이터 1,000으로 나눠서 백만 단위 맞춰주기"
      ],
      "metadata": {
        "id": "jFoYeosrfaNh"
      }
    },
    {
      "cell_type": "code",
      "source": [
        "df_c.NA_Sales = df_c.NA_Sales.str.replace('K', '')\n",
        "df_c.NA_Sales = df_c.NA_Sales.str.replace('M', '')"
      ],
      "metadata": {
        "id": "CYfIHL0ti1vt"
      },
      "execution_count": 24,
      "outputs": []
    },
    {
      "cell_type": "code",
      "source": [
        "df_c.NA_Sales[df_c.NA_Sales.str.contains('M') | df_c.NA_Sales.str.contains('K')]"
      ],
      "metadata": {
        "colab": {
          "base_uri": "https://localhost:8080/"
        },
        "id": "-kRnbb7giPLN",
        "outputId": "10c2cf9a-9d17-43bc-bd8f-43a09ef9d1d5"
      },
      "execution_count": 25,
      "outputs": [
        {
          "output_type": "execute_result",
          "data": {
            "text/plain": [
              "Series([], Name: NA_Sales, dtype: object)"
            ]
          },
          "metadata": {},
          "execution_count": 25
        }
      ]
    },
    {
      "cell_type": "code",
      "source": [
        "df_c.EU_Sales = df_c.EU_Sales.str.replace('K', '')\n",
        "df_c.EU_Sales = df_c.EU_Sales.str.replace('M', '')\n",
        "df_c.JP_Sales = df_c.JP_Sales.str.replace('K', '')\n",
        "df_c.JP_Sales = df_c.JP_Sales.str.replace('M', '')\n",
        "df_c.Other_Sales = df_c.Other_Sales.str.replace('K', '')\n",
        "df_c.Other_Sales = df_c.Other_Sales.str.replace('M', '')"
      ],
      "metadata": {
        "id": "lIudUcQgj6Vf"
      },
      "execution_count": 26,
      "outputs": []
    },
    {
      "cell_type": "code",
      "source": [
        "df_c.NA_Sales = df_c.NA_Sales.astype(float)\n",
        "df_c.EU_Sales = df_c.EU_Sales.astype(float)\n",
        "df_c.JP_Sales = df_c.JP_Sales.astype(float)\n",
        "df_c.Other_Sales = df_c.Other_Sales.astype(float)"
      ],
      "metadata": {
        "id": "hiX-B1OUeC2F"
      },
      "execution_count": 27,
      "outputs": []
    },
    {
      "cell_type": "code",
      "source": [
        "df_c.NA_Sales[idx_NA] = df_c.NA_Sales[idx_NA] / 1000"
      ],
      "metadata": {
        "colab": {
          "base_uri": "https://localhost:8080/"
        },
        "id": "u6R89hlicAq6",
        "outputId": "6325b4c9-b1d8-4227-bd0d-f25e834ed0b8"
      },
      "execution_count": 28,
      "outputs": [
        {
          "output_type": "stream",
          "name": "stderr",
          "text": [
            "<ipython-input-28-ea1dff1809f8>:1: SettingWithCopyWarning: \n",
            "A value is trying to be set on a copy of a slice from a DataFrame\n",
            "\n",
            "See the caveats in the documentation: https://pandas.pydata.org/pandas-docs/stable/user_guide/indexing.html#returning-a-view-versus-a-copy\n",
            "  df_c.NA_Sales[idx_NA] = df_c.NA_Sales[idx_NA] / 1000\n"
          ]
        }
      ]
    },
    {
      "cell_type": "code",
      "source": [
        "df_c.NA_Sales[10]"
      ],
      "metadata": {
        "colab": {
          "base_uri": "https://localhost:8080/"
        },
        "id": "gJX35wz-oXqW",
        "outputId": "d0abcaa2-569a-4b95-cfef-9c1bd5502b91"
      },
      "execution_count": 29,
      "outputs": [
        {
          "output_type": "execute_result",
          "data": {
            "text/plain": [
              "0.48"
            ]
          },
          "metadata": {},
          "execution_count": 29
        }
      ]
    },
    {
      "cell_type": "code",
      "source": [
        "df_c.EU_Sales[idx_EU] = df_c.EU_Sales[idx_EU] / 1000\n",
        "df_c.JP_Sales[idx_JP] = df_c.JP_Sales[idx_JP] / 1000\n",
        "df_c.Other_Sales[idx_Other] = df_c.Other_Sales[idx_Other] / 1000"
      ],
      "metadata": {
        "colab": {
          "base_uri": "https://localhost:8080/"
        },
        "id": "9NxJtPsYomc-",
        "outputId": "ef2558ad-e4da-42e2-d74c-e875967d7662"
      },
      "execution_count": 30,
      "outputs": [
        {
          "output_type": "stream",
          "name": "stderr",
          "text": [
            "<ipython-input-30-b59db22c426b>:1: SettingWithCopyWarning: \n",
            "A value is trying to be set on a copy of a slice from a DataFrame\n",
            "\n",
            "See the caveats in the documentation: https://pandas.pydata.org/pandas-docs/stable/user_guide/indexing.html#returning-a-view-versus-a-copy\n",
            "  df_c.EU_Sales[idx_EU] = df_c.EU_Sales[idx_EU] / 1000\n",
            "<ipython-input-30-b59db22c426b>:2: SettingWithCopyWarning: \n",
            "A value is trying to be set on a copy of a slice from a DataFrame\n",
            "\n",
            "See the caveats in the documentation: https://pandas.pydata.org/pandas-docs/stable/user_guide/indexing.html#returning-a-view-versus-a-copy\n",
            "  df_c.JP_Sales[idx_JP] = df_c.JP_Sales[idx_JP] / 1000\n",
            "<ipython-input-30-b59db22c426b>:3: SettingWithCopyWarning: \n",
            "A value is trying to be set on a copy of a slice from a DataFrame\n",
            "\n",
            "See the caveats in the documentation: https://pandas.pydata.org/pandas-docs/stable/user_guide/indexing.html#returning-a-view-versus-a-copy\n",
            "  df_c.Other_Sales[idx_Other] = df_c.Other_Sales[idx_Other] / 1000\n"
          ]
        }
      ]
    },
    {
      "cell_type": "code",
      "source": [
        "# 총 출고량 컬럼\n",
        "df_c['Total_Sales'] = df_c.NA_Sales + df_c.EU_Sales + df_c.JP_Sales + df_c.Other_Sales"
      ],
      "metadata": {
        "id": "hBMU7_BH3U2k"
      },
      "execution_count": 31,
      "outputs": []
    },
    {
      "cell_type": "code",
      "source": [
        "# 현재까지 총 출고량\n",
        "sum(df_c.NA_Sales) + sum(df_c.EU_Sales) + sum(df_c.JP_Sales) + sum(df_c.Other_Sales)"
      ],
      "metadata": {
        "colab": {
          "base_uri": "https://localhost:8080/"
        },
        "id": "EMPcXuoIvwnM",
        "outputId": "08d1e55c-25f5-4589-f0ff-afecfb1c97b0"
      },
      "execution_count": 32,
      "outputs": [
        {
          "output_type": "execute_result",
          "data": {
            "text/plain": [
              "8694.349999999973"
            ]
          },
          "metadata": {},
          "execution_count": 32
        }
      ]
    },
    {
      "cell_type": "code",
      "source": [
        "data = [sum(df_c.NA_Sales), sum(df_c.EU_Sales), sum(df_c.JP_Sales), sum(df_c.Other_Sales)]\n",
        "data"
      ],
      "metadata": {
        "colab": {
          "base_uri": "https://localhost:8080/"
        },
        "id": "-_bIJ15lzju0",
        "outputId": "2202f1f1-1ae0-4b78-e44a-afbf1729a15b"
      },
      "execution_count": 33,
      "outputs": [
        {
          "output_type": "execute_result",
          "data": {
            "text/plain": [
              "[4279.88000000011, 2377.869999999982, 1258.2099999999461, 778.3899999999338]"
            ]
          },
          "metadata": {},
          "execution_count": 33
        }
      ]
    },
    {
      "cell_type": "code",
      "source": [
        "sales = pd.DataFrame(data, index = ['NA', 'EU', 'JP', 'Other'], columns = ['Sales'])\n",
        "sales"
      ],
      "metadata": {
        "colab": {
          "base_uri": "https://localhost:8080/",
          "height": 175
        },
        "id": "oOkYHkCa0FB0",
        "outputId": "6c18199b-55af-4657-a0d8-9c984ed09818"
      },
      "execution_count": 34,
      "outputs": [
        {
          "output_type": "execute_result",
          "data": {
            "text/plain": [
              "         Sales\n",
              "NA     4279.88\n",
              "EU     2377.87\n",
              "JP     1258.21\n",
              "Other   778.39"
            ],
            "text/html": [
              "\n",
              "  <div id=\"df-77f20074-5244-4fc3-83b9-489f3b3e7e23\">\n",
              "    <div class=\"colab-df-container\">\n",
              "      <div>\n",
              "<style scoped>\n",
              "    .dataframe tbody tr th:only-of-type {\n",
              "        vertical-align: middle;\n",
              "    }\n",
              "\n",
              "    .dataframe tbody tr th {\n",
              "        vertical-align: top;\n",
              "    }\n",
              "\n",
              "    .dataframe thead th {\n",
              "        text-align: right;\n",
              "    }\n",
              "</style>\n",
              "<table border=\"1\" class=\"dataframe\">\n",
              "  <thead>\n",
              "    <tr style=\"text-align: right;\">\n",
              "      <th></th>\n",
              "      <th>Sales</th>\n",
              "    </tr>\n",
              "  </thead>\n",
              "  <tbody>\n",
              "    <tr>\n",
              "      <th>NA</th>\n",
              "      <td>4279.88</td>\n",
              "    </tr>\n",
              "    <tr>\n",
              "      <th>EU</th>\n",
              "      <td>2377.87</td>\n",
              "    </tr>\n",
              "    <tr>\n",
              "      <th>JP</th>\n",
              "      <td>1258.21</td>\n",
              "    </tr>\n",
              "    <tr>\n",
              "      <th>Other</th>\n",
              "      <td>778.39</td>\n",
              "    </tr>\n",
              "  </tbody>\n",
              "</table>\n",
              "</div>\n",
              "      <button class=\"colab-df-convert\" onclick=\"convertToInteractive('df-77f20074-5244-4fc3-83b9-489f3b3e7e23')\"\n",
              "              title=\"Convert this dataframe to an interactive table.\"\n",
              "              style=\"display:none;\">\n",
              "        \n",
              "  <svg xmlns=\"http://www.w3.org/2000/svg\" height=\"24px\"viewBox=\"0 0 24 24\"\n",
              "       width=\"24px\">\n",
              "    <path d=\"M0 0h24v24H0V0z\" fill=\"none\"/>\n",
              "    <path d=\"M18.56 5.44l.94 2.06.94-2.06 2.06-.94-2.06-.94-.94-2.06-.94 2.06-2.06.94zm-11 1L8.5 8.5l.94-2.06 2.06-.94-2.06-.94L8.5 2.5l-.94 2.06-2.06.94zm10 10l.94 2.06.94-2.06 2.06-.94-2.06-.94-.94-2.06-.94 2.06-2.06.94z\"/><path d=\"M17.41 7.96l-1.37-1.37c-.4-.4-.92-.59-1.43-.59-.52 0-1.04.2-1.43.59L10.3 9.45l-7.72 7.72c-.78.78-.78 2.05 0 2.83L4 21.41c.39.39.9.59 1.41.59.51 0 1.02-.2 1.41-.59l7.78-7.78 2.81-2.81c.8-.78.8-2.07 0-2.86zM5.41 20L4 18.59l7.72-7.72 1.47 1.35L5.41 20z\"/>\n",
              "  </svg>\n",
              "      </button>\n",
              "      \n",
              "  <style>\n",
              "    .colab-df-container {\n",
              "      display:flex;\n",
              "      flex-wrap:wrap;\n",
              "      gap: 12px;\n",
              "    }\n",
              "\n",
              "    .colab-df-convert {\n",
              "      background-color: #E8F0FE;\n",
              "      border: none;\n",
              "      border-radius: 50%;\n",
              "      cursor: pointer;\n",
              "      display: none;\n",
              "      fill: #1967D2;\n",
              "      height: 32px;\n",
              "      padding: 0 0 0 0;\n",
              "      width: 32px;\n",
              "    }\n",
              "\n",
              "    .colab-df-convert:hover {\n",
              "      background-color: #E2EBFA;\n",
              "      box-shadow: 0px 1px 2px rgba(60, 64, 67, 0.3), 0px 1px 3px 1px rgba(60, 64, 67, 0.15);\n",
              "      fill: #174EA6;\n",
              "    }\n",
              "\n",
              "    [theme=dark] .colab-df-convert {\n",
              "      background-color: #3B4455;\n",
              "      fill: #D2E3FC;\n",
              "    }\n",
              "\n",
              "    [theme=dark] .colab-df-convert:hover {\n",
              "      background-color: #434B5C;\n",
              "      box-shadow: 0px 1px 3px 1px rgba(0, 0, 0, 0.15);\n",
              "      filter: drop-shadow(0px 1px 2px rgba(0, 0, 0, 0.3));\n",
              "      fill: #FFFFFF;\n",
              "    }\n",
              "  </style>\n",
              "\n",
              "      <script>\n",
              "        const buttonEl =\n",
              "          document.querySelector('#df-77f20074-5244-4fc3-83b9-489f3b3e7e23 button.colab-df-convert');\n",
              "        buttonEl.style.display =\n",
              "          google.colab.kernel.accessAllowed ? 'block' : 'none';\n",
              "\n",
              "        async function convertToInteractive(key) {\n",
              "          const element = document.querySelector('#df-77f20074-5244-4fc3-83b9-489f3b3e7e23');\n",
              "          const dataTable =\n",
              "            await google.colab.kernel.invokeFunction('convertToInteractive',\n",
              "                                                     [key], {});\n",
              "          if (!dataTable) return;\n",
              "\n",
              "          const docLinkHtml = 'Like what you see? Visit the ' +\n",
              "            '<a target=\"_blank\" href=https://colab.research.google.com/notebooks/data_table.ipynb>data table notebook</a>'\n",
              "            + ' to learn more about interactive tables.';\n",
              "          element.innerHTML = '';\n",
              "          dataTable['output_type'] = 'display_data';\n",
              "          await google.colab.output.renderOutput(dataTable, element);\n",
              "          const docLink = document.createElement('div');\n",
              "          docLink.innerHTML = docLinkHtml;\n",
              "          element.appendChild(docLink);\n",
              "        }\n",
              "      </script>\n",
              "    </div>\n",
              "  </div>\n",
              "  "
            ]
          },
          "metadata": {},
          "execution_count": 34
        }
      ]
    },
    {
      "cell_type": "code",
      "source": [
        "plt.figure(figsize=(8, 8))\n",
        "\n",
        "sns.barplot(x = sales.index, y = sales.Sales).set_title(\"Sales by region\")"
      ],
      "metadata": {
        "colab": {
          "base_uri": "https://localhost:8080/",
          "height": 517
        },
        "id": "bxeWVjvw03bW",
        "outputId": "538d2eb5-04b1-4ee7-8506-6e6c10a38ce9"
      },
      "execution_count": 35,
      "outputs": [
        {
          "output_type": "execute_result",
          "data": {
            "text/plain": [
              "Text(0.5, 1.0, 'Sales by region')"
            ]
          },
          "metadata": {},
          "execution_count": 35
        },
        {
          "output_type": "display_data",
          "data": {
            "text/plain": [
              "<Figure size 576x576 with 1 Axes>"
            ],
            "image/png": "[encoded data removed]"
          },
          "metadata": {
            "needs_background": "light"
          }
        }
      ]
    },
    {
      "cell_type": "code",
      "source": [
        "df_c.duplicated().sum()"
      ],
      "metadata": {
        "colab": {
          "base_uri": "https://localhost:8080/"
        },
        "id": "HkCBvzA9y4-Q",
        "outputId": "e70a0888-8ce6-4d5f-f26e-8c959c4cdab1"
      },
      "execution_count": 36,
      "outputs": [
        {
          "output_type": "execute_result",
          "data": {
            "text/plain": [
              "0"
            ]
          },
          "metadata": {},
          "execution_count": 36
        }
      ]
    },
    {
      "cell_type": "code",
      "source": [
        "df_c.head()"
      ],
      "metadata": {
        "colab": {
          "base_uri": "https://localhost:8080/",
          "height": 302
        },
        "id": "DNHwmE0PyEdL",
        "outputId": "a2c403df-e9f5-4ca7-fa98-189decdfd676"
      },
      "execution_count": 37,
      "outputs": [
        {
          "output_type": "execute_result",
          "data": {
            "text/plain": [
              "                                             Name Platform  Year      Genre  \\\n",
              "0                    Candace Kane's Candy Factory       DS  2008     Action   \n",
              "1                                  The Munchables      Wii  2009     Action   \n",
              "2  Otome wa Oanesama Boku ni Koi Shiteru Portable      PSP  2010  Adventure   \n",
              "3                Deal or No Deal: Special Edition       DS  2010       Misc   \n",
              "4       Ben 10 Ultimate Alien: Cosmic Destruction      PS3  2010   Platform   \n",
              "\n",
              "            Publisher  NA_Sales  EU_Sales  JP_Sales  Other_Sales  Total_Sales  \n",
              "0           Destineer      0.04      0.00      0.00         0.00         0.04  \n",
              "1  Namco Bandai Games      0.17      0.00      0.00         0.01         0.18  \n",
              "2           Alchemist      0.00      0.00      0.02         0.00         0.02  \n",
              "3           Zoo Games      0.04      0.00      0.00         0.00         0.04  \n",
              "4         D3Publisher      0.12      0.09      0.00         0.04         0.25  "
            ],
            "text/html": [
              "\n",
              "  <div id=\"df-1fede827-e1ab-4cbf-ae68-c0eea6991b1b\">\n",
              "    <div class=\"colab-df-container\">\n",
              "      <div>\n",
              "<style scoped>\n",
              "    .dataframe tbody tr th:only-of-type {\n",
              "        vertical-align: middle;\n",
              "    }\n",
              "\n",
              "    .dataframe tbody tr th {\n",
              "        vertical-align: top;\n",
              "    }\n",
              "\n",
              "    .dataframe thead th {\n",
              "        text-align: right;\n",
              "    }\n",
              "</style>\n",
              "<table border=\"1\" class=\"dataframe\">\n",
              "  <thead>\n",
              "    <tr style=\"text-align: right;\">\n",
              "      <th></th>\n",
              "      <th>Name</th>\n",
              "      <th>Platform</th>\n",
              "      <th>Year</th>\n",
              "      <th>Genre</th>\n",
              "      <th>Publisher</th>\n",
              "      <th>NA_Sales</th>\n",
              "      <th>EU_Sales</th>\n",
              "      <th>JP_Sales</th>\n",
              "      <th>Other_Sales</th>\n",
              "      <th>Total_Sales</th>\n",
              "    </tr>\n",
              "  </thead>\n",
              "  <tbody>\n",
              "    <tr>\n",
              "      <th>0</th>\n",
              "      <td>Candace Kane's Candy Factory</td>\n",
              "      <td>DS</td>\n",
              "      <td>2008</td>\n",
              "      <td>Action</td>\n",
              "      <td>Destineer</td>\n",
              "      <td>0.04</td>\n",
              "      <td>0.00</td>\n",
              "      <td>0.00</td>\n",
              "      <td>0.00</td>\n",
              "      <td>0.04</td>\n",
              "    </tr>\n",
              "    <tr>\n",
              "      <th>1</th>\n",
              "      <td>The Munchables</td>\n",
              "      <td>Wii</td>\n",
              "      <td>2009</td>\n",
              "      <td>Action</td>\n",
              "      <td>Namco Bandai Games</td>\n",
              "      <td>0.17</td>\n",
              "      <td>0.00</td>\n",
              "      <td>0.00</td>\n",
              "      <td>0.01</td>\n",
              "      <td>0.18</td>\n",
              "    </tr>\n",
              "    <tr>\n",
              "      <th>2</th>\n",
              "      <td>Otome wa Oanesama Boku ni Koi Shiteru Portable</td>\n",
              "      <td>PSP</td>\n",
              "      <td>2010</td>\n",
              "      <td>Adventure</td>\n",
              "      <td>Alchemist</td>\n",
              "      <td>0.00</td>\n",
              "      <td>0.00</td>\n",
              "      <td>0.02</td>\n",
              "      <td>0.00</td>\n",
              "      <td>0.02</td>\n",
              "    </tr>\n",
              "    <tr>\n",
              "      <th>3</th>\n",
              "      <td>Deal or No Deal: Special Edition</td>\n",
              "      <td>DS</td>\n",
              "      <td>2010</td>\n",
              "      <td>Misc</td>\n",
              "      <td>Zoo Games</td>\n",
              "      <td>0.04</td>\n",
              "      <td>0.00</td>\n",
              "      <td>0.00</td>\n",
              "      <td>0.00</td>\n",
              "      <td>0.04</td>\n",
              "    </tr>\n",
              "    <tr>\n",
              "      <th>4</th>\n",
              "      <td>Ben 10 Ultimate Alien: Cosmic Destruction</td>\n",
              "      <td>PS3</td>\n",
              "      <td>2010</td>\n",
              "      <td>Platform</td>\n",
              "      <td>D3Publisher</td>\n",
              "      <td>0.12</td>\n",
              "      <td>0.09</td>\n",
              "      <td>0.00</td>\n",
              "      <td>0.04</td>\n",
              "      <td>0.25</td>\n",
              "    </tr>\n",
              "  </tbody>\n",
              "</table>\n",
              "</div>\n",
              "      <button class=\"colab-df-convert\" onclick=\"convertToInteractive('df-1fede827-e1ab-4cbf-ae68-c0eea6991b1b')\"\n",
              "              title=\"Convert this dataframe to an interactive table.\"\n",
              "              style=\"display:none;\">\n",
              "        \n",
              "  <svg xmlns=\"http://www.w3.org/2000/svg\" height=\"24px\"viewBox=\"0 0 24 24\"\n",
              "       width=\"24px\">\n",
              "    <path d=\"M0 0h24v24H0V0z\" fill=\"none\"/>\n",
              "    <path d=\"M18.56 5.44l.94 2.06.94-2.06 2.06-.94-2.06-.94-.94-2.06-.94 2.06-2.06.94zm-11 1L8.5 8.5l.94-2.06 2.06-.94-2.06-.94L8.5 2.5l-.94 2.06-2.06.94zm10 10l.94 2.06.94-2.06 2.06-.94-2.06-.94-.94-2.06-.94 2.06-2.06.94z\"/><path d=\"M17.41 7.96l-1.37-1.37c-.4-.4-.92-.59-1.43-.59-.52 0-1.04.2-1.43.59L10.3 9.45l-7.72 7.72c-.78.78-.78 2.05 0 2.83L4 21.41c.39.39.9.59 1.41.59.51 0 1.02-.2 1.41-.59l7.78-7.78 2.81-2.81c.8-.78.8-2.07 0-2.86zM5.41 20L4 18.59l7.72-7.72 1.47 1.35L5.41 20z\"/>\n",
              "  </svg>\n",
              "      </button>\n",
              "      \n",
              "  <style>\n",
              "    .colab-df-container {\n",
              "      display:flex;\n",
              "      flex-wrap:wrap;\n",
              "      gap: 12px;\n",
              "    }\n",
              "\n",
              "    .colab-df-convert {\n",
              "      background-color: #E8F0FE;\n",
              "      border: none;\n",
              "      border-radius: 50%;\n",
              "      cursor: pointer;\n",
              "      display: none;\n",
              "      fill: #1967D2;\n",
              "      height: 32px;\n",
              "      padding: 0 0 0 0;\n",
              "      width: 32px;\n",
              "    }\n",
              "\n",
              "    .colab-df-convert:hover {\n",
              "      background-color: #E2EBFA;\n",
              "      box-shadow: 0px 1px 2px rgba(60, 64, 67, 0.3), 0px 1px 3px 1px rgba(60, 64, 67, 0.15);\n",
              "      fill: #174EA6;\n",
              "    }\n",
              "\n",
              "    [theme=dark] .colab-df-convert {\n",
              "      background-color: #3B4455;\n",
              "      fill: #D2E3FC;\n",
              "    }\n",
              "\n",
              "    [theme=dark] .colab-df-convert:hover {\n",
              "      background-color: #434B5C;\n",
              "      box-shadow: 0px 1px 3px 1px rgba(0, 0, 0, 0.15);\n",
              "      filter: drop-shadow(0px 1px 2px rgba(0, 0, 0, 0.3));\n",
              "      fill: #FFFFFF;\n",
              "    }\n",
              "  </style>\n",
              "\n",
              "      <script>\n",
              "        const buttonEl =\n",
              "          document.querySelector('#df-1fede827-e1ab-4cbf-ae68-c0eea6991b1b button.colab-df-convert');\n",
              "        buttonEl.style.display =\n",
              "          google.colab.kernel.accessAllowed ? 'block' : 'none';\n",
              "\n",
              "        async function convertToInteractive(key) {\n",
              "          const element = document.querySelector('#df-1fede827-e1ab-4cbf-ae68-c0eea6991b1b');\n",
              "          const dataTable =\n",
              "            await google.colab.kernel.invokeFunction('convertToInteractive',\n",
              "                                                     [key], {});\n",
              "          if (!dataTable) return;\n",
              "\n",
              "          const docLinkHtml = 'Like what you see? Visit the ' +\n",
              "            '<a target=\"_blank\" href=https://colab.research.google.com/notebooks/data_table.ipynb>data table notebook</a>'\n",
              "            + ' to learn more about interactive tables.';\n",
              "          element.innerHTML = '';\n",
              "          dataTable['output_type'] = 'display_data';\n",
              "          await google.colab.output.renderOutput(dataTable, element);\n",
              "          const docLink = document.createElement('div');\n",
              "          docLink.innerHTML = docLinkHtml;\n",
              "          element.appendChild(docLink);\n",
              "        }\n",
              "      </script>\n",
              "    </div>\n",
              "  </div>\n",
              "  "
            ]
          },
          "metadata": {},
          "execution_count": 37
        }
      ]
    },
    {
      "cell_type": "code",
      "source": [
        "df_c.shape"
      ],
      "metadata": {
        "colab": {
          "base_uri": "https://localhost:8080/"
        },
        "id": "A2bFCYWMyG7-",
        "outputId": "57d0f669-8e48-4692-83f6-220bb3fd8821"
      },
      "execution_count": 38,
      "outputs": [
        {
          "output_type": "execute_result",
          "data": {
            "text/plain": [
              "(16141, 10)"
            ]
          },
          "metadata": {},
          "execution_count": 38
        }
      ]
    },
    {
      "cell_type": "code",
      "source": [
        "df_c.describe()"
      ],
      "metadata": {
        "colab": {
          "base_uri": "https://localhost:8080/",
          "height": 300
        },
        "id": "r59lbPENzU9H",
        "outputId": "b5f9f1c4-fcf0-4ecd-d68f-72a8728ff6d2"
      },
      "execution_count": 39,
      "outputs": [
        {
          "output_type": "execute_result",
          "data": {
            "text/plain": [
              "               Year      NA_Sales      EU_Sales      JP_Sales   Other_Sales  \\\n",
              "count  16141.000000  16141.000000  16141.000000  16141.000000  16141.000000   \n",
              "mean    2006.406356      0.265156      0.147319      0.077951      0.048224   \n",
              "std        5.830780      0.822621      0.508480      0.306771      0.189939   \n",
              "min     1980.000000      0.000000      0.000000      0.000000      0.000000   \n",
              "25%     2003.000000      0.000000      0.000000      0.000000      0.000000   \n",
              "50%     2007.000000      0.080000      0.020000      0.000000      0.010000   \n",
              "75%     2010.000000      0.240000      0.110000      0.040000      0.040000   \n",
              "max     2020.000000     41.490000     29.020000     10.220000     10.570000   \n",
              "\n",
              "        Total_Sales  \n",
              "count  16141.000000  \n",
              "mean       0.538650  \n",
              "std        1.562156  \n",
              "min        0.000000  \n",
              "25%        0.060000  \n",
              "50%        0.170000  \n",
              "75%        0.480000  \n",
              "max       82.740000  "
            ],
            "text/html": [
              "\n",
              "  <div id=\"df-7e3437a5-7659-4f10-bd66-e3eb3ea3b0f1\">\n",
              "    <div class=\"colab-df-container\">\n",
              "      <div>\n",
              "<style scoped>\n",
              "    .dataframe tbody tr th:only-of-type {\n",
              "        vertical-align: middle;\n",
              "    }\n",
              "\n",
              "    .dataframe tbody tr th {\n",
              "        vertical-align: top;\n",
              "    }\n",
              "\n",
              "    .dataframe thead th {\n",
              "        text-align: right;\n",
              "    }\n",
              "</style>\n",
              "<table border=\"1\" class=\"dataframe\">\n",
              "  <thead>\n",
              "    <tr style=\"text-align: right;\">\n",
              "      <th></th>\n",
              "      <th>Year</th>\n",
              "      <th>NA_Sales</th>\n",
              "      <th>EU_Sales</th>\n",
              "      <th>JP_Sales</th>\n",
              "      <th>Other_Sales</th>\n",
              "      <th>Total_Sales</th>\n",
              "    </tr>\n",
              "  </thead>\n",
              "  <tbody>\n",
              "    <tr>\n",
              "      <th>count</th>\n",
              "      <td>16141.000000</td>\n",
              "      <td>16141.000000</td>\n",
              "      <td>16141.000000</td>\n",
              "      <td>16141.000000</td>\n",
              "      <td>16141.000000</td>\n",
              "      <td>16141.000000</td>\n",
              "    </tr>\n",
              "    <tr>\n",
              "      <th>mean</th>\n",
              "      <td>2006.406356</td>\n",
              "      <td>0.265156</td>\n",
              "      <td>0.147319</td>\n",
              "      <td>0.077951</td>\n",
              "      <td>0.048224</td>\n",
              "      <td>0.538650</td>\n",
              "    </tr>\n",
              "    <tr>\n",
              "      <th>std</th>\n",
              "      <td>5.830780</td>\n",
              "      <td>0.822621</td>\n",
              "      <td>0.508480</td>\n",
              "      <td>0.306771</td>\n",
              "      <td>0.189939</td>\n",
              "      <td>1.562156</td>\n",
              "    </tr>\n",
              "    <tr>\n",
              "      <th>min</th>\n",
              "      <td>1980.000000</td>\n",
              "      <td>0.000000</td>\n",
              "      <td>0.000000</td>\n",
              "      <td>0.000000</td>\n",
              "      <td>0.000000</td>\n",
              "      <td>0.000000</td>\n",
              "    </tr>\n",
              "    <tr>\n",
              "      <th>25%</th>\n",
              "      <td>2003.000000</td>\n",
              "      <td>0.000000</td>\n",
              "      <td>0.000000</td>\n",
              "      <td>0.000000</td>\n",
              "      <td>0.000000</td>\n",
              "      <td>0.060000</td>\n",
              "    </tr>\n",
              "    <tr>\n",
              "      <th>50%</th>\n",
              "      <td>2007.000000</td>\n",
              "      <td>0.080000</td>\n",
              "      <td>0.020000</td>\n",
              "      <td>0.000000</td>\n",
              "      <td>0.010000</td>\n",
              "      <td>0.170000</td>\n",
              "    </tr>\n",
              "    <tr>\n",
              "      <th>75%</th>\n",
              "      <td>2010.000000</td>\n",
              "      <td>0.240000</td>\n",
              "      <td>0.110000</td>\n",
              "      <td>0.040000</td>\n",
              "      <td>0.040000</td>\n",
              "      <td>0.480000</td>\n",
              "    </tr>\n",
              "    <tr>\n",
              "      <th>max</th>\n",
              "      <td>2020.000000</td>\n",
              "      <td>41.490000</td>\n",
              "      <td>29.020000</td>\n",
              "      <td>10.220000</td>\n",
              "      <td>10.570000</td>\n",
              "      <td>82.740000</td>\n",
              "    </tr>\n",
              "  </tbody>\n",
              "</table>\n",
              "</div>\n",
              "      <button class=\"colab-df-convert\" onclick=\"convertToInteractive('df-7e3437a5-7659-4f10-bd66-e3eb3ea3b0f1')\"\n",
              "              title=\"Convert this dataframe to an interactive table.\"\n",
              "              style=\"display:none;\">\n",
              "        \n",
              "  <svg xmlns=\"http://www.w3.org/2000/svg\" height=\"24px\"viewBox=\"0 0 24 24\"\n",
              "       width=\"24px\">\n",
              "    <path d=\"M0 0h24v24H0V0z\" fill=\"none\"/>\n",
              "    <path d=\"M18.56 5.44l.94 2.06.94-2.06 2.06-.94-2.06-.94-.94-2.06-.94 2.06-2.06.94zm-11 1L8.5 8.5l.94-2.06 2.06-.94-2.06-.94L8.5 2.5l-.94 2.06-2.06.94zm10 10l.94 2.06.94-2.06 2.06-.94-2.06-.94-.94-2.06-.94 2.06-2.06.94z\"/><path d=\"M17.41 7.96l-1.37-1.37c-.4-.4-.92-.59-1.43-.59-.52 0-1.04.2-1.43.59L10.3 9.45l-7.72 7.72c-.78.78-.78 2.05 0 2.83L4 21.41c.39.39.9.59 1.41.59.51 0 1.02-.2 1.41-.59l7.78-7.78 2.81-2.81c.8-.78.8-2.07 0-2.86zM5.41 20L4 18.59l7.72-7.72 1.47 1.35L5.41 20z\"/>\n",
              "  </svg>\n",
              "      </button>\n",
              "      \n",
              "  <style>\n",
              "    .colab-df-container {\n",
              "      display:flex;\n",
              "      flex-wrap:wrap;\n",
              "      gap: 12px;\n",
              "    }\n",
              "\n",
              "    .colab-df-convert {\n",
              "      background-color: #E8F0FE;\n",
              "      border: none;\n",
              "      border-radius: 50%;\n",
              "      cursor: pointer;\n",
              "      display: none;\n",
              "      fill: #1967D2;\n",
              "      height: 32px;\n",
              "      padding: 0 0 0 0;\n",
              "      width: 32px;\n",
              "    }\n",
              "\n",
              "    .colab-df-convert:hover {\n",
              "      background-color: #E2EBFA;\n",
              "      box-shadow: 0px 1px 2px rgba(60, 64, 67, 0.3), 0px 1px 3px 1px rgba(60, 64, 67, 0.15);\n",
              "      fill: #174EA6;\n",
              "    }\n",
              "\n",
              "    [theme=dark] .colab-df-convert {\n",
              "      background-color: #3B4455;\n",
              "      fill: #D2E3FC;\n",
              "    }\n",
              "\n",
              "    [theme=dark] .colab-df-convert:hover {\n",
              "      background-color: #434B5C;\n",
              "      box-shadow: 0px 1px 3px 1px rgba(0, 0, 0, 0.15);\n",
              "      filter: drop-shadow(0px 1px 2px rgba(0, 0, 0, 0.3));\n",
              "      fill: #FFFFFF;\n",
              "    }\n",
              "  </style>\n",
              "\n",
              "      <script>\n",
              "        const buttonEl =\n",
              "          document.querySelector('#df-7e3437a5-7659-4f10-bd66-e3eb3ea3b0f1 button.colab-df-convert');\n",
              "        buttonEl.style.display =\n",
              "          google.colab.kernel.accessAllowed ? 'block' : 'none';\n",
              "\n",
              "        async function convertToInteractive(key) {\n",
              "          const element = document.querySelector('#df-7e3437a5-7659-4f10-bd66-e3eb3ea3b0f1');\n",
              "          const dataTable =\n",
              "            await google.colab.kernel.invokeFunction('convertToInteractive',\n",
              "                                                     [key], {});\n",
              "          if (!dataTable) return;\n",
              "\n",
              "          const docLinkHtml = 'Like what you see? Visit the ' +\n",
              "            '<a target=\"_blank\" href=https://colab.research.google.com/notebooks/data_table.ipynb>data table notebook</a>'\n",
              "            + ' to learn more about interactive tables.';\n",
              "          element.innerHTML = '';\n",
              "          dataTable['output_type'] = 'display_data';\n",
              "          await google.colab.output.renderOutput(dataTable, element);\n",
              "          const docLink = document.createElement('div');\n",
              "          docLink.innerHTML = docLinkHtml;\n",
              "          element.appendChild(docLink);\n",
              "        }\n",
              "      </script>\n",
              "    </div>\n",
              "  </div>\n",
              "  "
            ]
          },
          "metadata": {},
          "execution_count": 39
        }
      ]
    },
    {
      "cell_type": "code",
      "source": [
        "len(df_c.Platform.value_counts())"
      ],
      "metadata": {
        "colab": {
          "base_uri": "https://localhost:8080/"
        },
        "id": "9lwr2Yfux6o9",
        "outputId": "93c2aa42-7fcf-458e-8ca2-33a4ca449f70"
      },
      "execution_count": 40,
      "outputs": [
        {
          "output_type": "execute_result",
          "data": {
            "text/plain": [
              "31"
            ]
          },
          "metadata": {},
          "execution_count": 40
        }
      ]
    },
    {
      "cell_type": "code",
      "source": [
        "len(df_c.Publisher.value_counts())"
      ],
      "metadata": {
        "colab": {
          "base_uri": "https://localhost:8080/"
        },
        "id": "RpomI1KKyEV-",
        "outputId": "1c8c1c37-5db5-433a-fb92-c545688b9deb"
      },
      "execution_count": 41,
      "outputs": [
        {
          "output_type": "execute_result",
          "data": {
            "text/plain": [
              "573"
            ]
          },
          "metadata": {},
          "execution_count": 41
        }
      ]
    },
    {
      "cell_type": "code",
      "source": [
        "len(df_c.Genre.value_counts())"
      ],
      "metadata": {
        "colab": {
          "base_uri": "https://localhost:8080/"
        },
        "id": "csm_iNMHyi8_",
        "outputId": "e5d3af49-27da-4f4c-d7b4-39d995043f0f"
      },
      "execution_count": 42,
      "outputs": [
        {
          "output_type": "execute_result",
          "data": {
            "text/plain": [
              "12"
            ]
          },
          "metadata": {},
          "execution_count": 42
        }
      ]
    },
    {
      "cell_type": "markdown",
      "source": [
        "## 상황설정  \n",
        "- 출시 목표 분기 : 2023년 2분기\n",
        "- 1980년부터 2020년까지 40년동안 총 출고량 86억 9435만건에 이르는 대규모 게임 제작사\n",
        "- 당사의 게임은 총 31개의 Platform에서 지원됨\n",
        "- 당사의 게임은 총 573개의 Publisher에 배급되었음\n",
        "- 당사의 게임은 총 12개의 Genre로 제작되었음\n",
        "- 당사의 게임은 주로 북미, 유럽, 일본 지역에 출고되며, 이에 비해 적은 양이지만 타지역에도 출고됨"
      ],
      "metadata": {
        "id": "aDjMgDWj4rLO"
      }
    },
    {
      "cell_type": "markdown",
      "source": [
        "## 데이터 분석\n",
        "### 지역에 따라서 선호하는 게임 장르가 다를까 ?\n",
        "- 지역은 북미, 유럽, 일본 지역과 나머지 지역으로 나누어 출고량 파악"
      ],
      "metadata": {
        "id": "Sp_9vh2owhGJ"
      }
    },
    {
      "cell_type": "code",
      "source": [
        "df_NA = df_c.query('NA_Sales > 0')\n",
        "df_NA.Genre.value_counts()"
      ],
      "metadata": {
        "id": "6JQUfs7pyYFL",
        "colab": {
          "base_uri": "https://localhost:8080/"
        },
        "outputId": "857e23a1-fa37-467e-8a16-c3125518b07b"
      },
      "execution_count": 43,
      "outputs": [
        {
          "output_type": "execute_result",
          "data": {
            "text/plain": [
              "Action          2508\n",
              "Sports          1804\n",
              "Misc            1155\n",
              "Shooter         1110\n",
              "Racing          1074\n",
              "Role-Playing     842\n",
              "Platform         783\n",
              "Simulation       599\n",
              "Fighting         583\n",
              "Adventure        535\n",
              "Puzzle           428\n",
              "Strategy         332\n",
              "Name: Genre, dtype: int64"
            ]
          },
          "metadata": {},
          "execution_count": 43
        }
      ]
    },
    {
      "cell_type": "code",
      "source": [
        "df_EU = df_c.query('EU_Sales > 0')\n",
        "df_EU.Genre.value_counts()"
      ],
      "metadata": {
        "colab": {
          "base_uri": "https://localhost:8080/"
        },
        "id": "pFTmgtf1k1yr",
        "outputId": "2176a358-ff8f-4541-d064-98d6be21242c"
      },
      "execution_count": 44,
      "outputs": [
        {
          "output_type": "execute_result",
          "data": {
            "text/plain": [
              "Action          2393\n",
              "Sports          1533\n",
              "Shooter         1050\n",
              "Racing           995\n",
              "Misc             916\n",
              "Role-Playing     760\n",
              "Platform         712\n",
              "Fighting         534\n",
              "Simulation       497\n",
              "Adventure        485\n",
              "Strategy         405\n",
              "Puzzle           296\n",
              "Name: Genre, dtype: int64"
            ]
          },
          "metadata": {},
          "execution_count": 44
        }
      ]
    },
    {
      "cell_type": "code",
      "source": [
        "df_JP = df_c.query('JP_Sales > 0')\n",
        "df_JP.Genre.value_counts()"
      ],
      "metadata": {
        "colab": {
          "base_uri": "https://localhost:8080/"
        },
        "id": "pgoog9S2mxkr",
        "outputId": "6603d345-f049-4577-cd7a-ff07a2738b23"
      },
      "execution_count": 45,
      "outputs": [
        {
          "output_type": "execute_result",
          "data": {
            "text/plain": [
              "Action          1145\n",
              "Role-Playing    1030\n",
              "Adventure        734\n",
              "Sports           591\n",
              "Misc             526\n",
              "Fighting         456\n",
              "Shooter          368\n",
              "Platform         272\n",
              "Simulation       265\n",
              "Strategy         263\n",
              "Racing           225\n",
              "Puzzle           152\n",
              "Name: Genre, dtype: int64"
            ]
          },
          "metadata": {},
          "execution_count": 45
        }
      ]
    },
    {
      "cell_type": "code",
      "source": [
        "df_Other = df_c.query('Other_Sales > 0')\n",
        "df_Other.Genre.value_counts()"
      ],
      "metadata": {
        "colab": {
          "base_uri": "https://localhost:8080/"
        },
        "id": "xhAjdhcmmxUy",
        "outputId": "8e6644f0-5b70-448e-a2f8-21717c5bdc6a"
      },
      "execution_count": 46,
      "outputs": [
        {
          "output_type": "execute_result",
          "data": {
            "text/plain": [
              "Action          2103\n",
              "Sports          1548\n",
              "Misc             998\n",
              "Shooter          900\n",
              "Racing           835\n",
              "Role-Playing     789\n",
              "Platform         596\n",
              "Simulation       537\n",
              "Fighting         493\n",
              "Adventure        444\n",
              "Strategy         332\n",
              "Puzzle           294\n",
              "Name: Genre, dtype: int64"
            ]
          },
          "metadata": {},
          "execution_count": 46
        }
      ]
    },
    {
      "cell_type": "code",
      "source": [
        "f, axes = plt.subplots(2,2)\n",
        "\n",
        "# 격자 크기 설정\n",
        "f.set_size_inches((12,12))\n",
        "\n",
        "# 격자 여백 설정\n",
        "plt.subplots_adjust(wspace = 0.3, hspace = 0.4)\n",
        "\n",
        "sns.countplot(df_NA.Genre, ax=axes[0,0], order = df_NA.Genre.value_counts().index)\n",
        "axes[0,0].set_xticklabels(axes[0,0].get_xticklabels(), rotation=45)\n",
        "axes[0,0].set_title(\"NA\")\n",
        "sns.countplot(df_EU.Genre, ax=axes[0,1], order = df_EU.Genre.value_counts().index)\n",
        "axes[0,1].set_xticklabels(axes[0,1].get_xticklabels(), rotation=45)\n",
        "axes[0,1].set_title(\"EU\")\n",
        "sns.countplot(df_JP.Genre, ax=axes[1,0], order = df_JP.Genre.value_counts().index)\n",
        "axes[1,0].set_xticklabels(axes[1,0].get_xticklabels(), rotation=45)\n",
        "axes[1,0].set_title(\"JP\")\n",
        "sns.countplot(df_Other.Genre, ax=axes[1,1], order = df_Other.Genre.value_counts().index)\n",
        "axes[1,1].set_xticklabels(axes[1,1].get_xticklabels(), rotation=45)\n",
        "axes[1,1].set_title(\"Other\")"
      ],
      "metadata": {
        "colab": {
          "base_uri": "https://localhost:8080/",
          "height": 955
        },
        "id": "cBZt2qRgkO06",
        "outputId": "376121b9-49f4-4f7a-c4f3-ef05178c3583"
      },
      "execution_count": 47,
      "outputs": [
        {
          "output_type": "stream",
          "name": "stderr",
          "text": [
            "/usr/local/lib/python3.8/dist-packages/seaborn/_decorators.py:36: FutureWarning: Pass the following variable as a keyword arg: x. From version 0.12, the only valid positional argument will be `data`, and passing other arguments without an explicit keyword will result in an error or misinterpretation.\n",
            "  warnings.warn(\n",
            "/usr/local/lib/python3.8/dist-packages/seaborn/_decorators.py:36: FutureWarning: Pass the following variable as a keyword arg: x. From version 0.12, the only valid positional argument will be `data`, and passing other arguments without an explicit keyword will result in an error or misinterpretation.\n",
            "  warnings.warn(\n",
            "/usr/local/lib/python3.8/dist-packages/seaborn/_decorators.py:36: FutureWarning: Pass the following variable as a keyword arg: x. From version 0.12, the only valid positional argument will be `data`, and passing other arguments without an explicit keyword will result in an error or misinterpretation.\n",
            "  warnings.warn(\n",
            "/usr/local/lib/python3.8/dist-packages/seaborn/_decorators.py:36: FutureWarning: Pass the following variable as a keyword arg: x. From version 0.12, the only valid positional argument will be `data`, and passing other arguments without an explicit keyword will result in an error or misinterpretation.\n",
            "  warnings.warn(\n"
          ]
        },
        {
          "output_type": "execute_result",
          "data": {
            "text/plain": [
              "Text(0.5, 1.0, 'Other')"
            ]
          },
          "metadata": {},
          "execution_count": 47
        },
        {
          "output_type": "display_data",
          "data": {
            "text/plain": [
              "<Figure size 864x864 with 4 Axes>"
            ],
            "image/png": "[encoded data removed]"
          },
          "metadata": {
            "needs_background": "light"
          }
        }
      ]
    },
    {
      "cell_type": "code",
      "source": [
        "# 지역별 장르별 출고량 비율\n",
        "df_NA.Genre.value_counts() / len(df_NA)"
      ],
      "metadata": {
        "colab": {
          "base_uri": "https://localhost:8080/"
        },
        "id": "uDs24zrBo9I_",
        "outputId": "14bccb9d-e5b5-4db0-ada6-0d038e1d56fc"
      },
      "execution_count": 48,
      "outputs": [
        {
          "output_type": "execute_result",
          "data": {
            "text/plain": [
              "Action          0.213392\n",
              "Sports          0.153493\n",
              "Misc            0.098273\n",
              "Shooter         0.094444\n",
              "Racing          0.091381\n",
              "Role-Playing    0.071641\n",
              "Platform        0.066621\n",
              "Simulation      0.050966\n",
              "Fighting        0.049604\n",
              "Adventure       0.045520\n",
              "Puzzle          0.036416\n",
              "Strategy        0.028248\n",
              "Name: Genre, dtype: float64"
            ]
          },
          "metadata": {},
          "execution_count": 48
        }
      ]
    },
    {
      "cell_type": "markdown",
      "source": [
        "### 연도별 게임의 트렌드가 있을까 ?\n",
        "트렌드는 장르를 기준으로 파악"
      ],
      "metadata": {
        "id": "psdBmkOpySM4"
      }
    },
    {
      "cell_type": "code",
      "source": [
        "# 연도(Year)를 10년단위로 나누어 Decade 변수 생성\n",
        "\n",
        "df_c['Decade'] = '-'\n",
        "\n",
        "for i in range(len(df_c)):\n",
        "  if df_c.Year[i] < 1990:\n",
        "    df_c.Decade[i] = \"1980's\"\n",
        "  elif df_c.Year[i] < 2000:\n",
        "    df_c.Decade[i] = \"1990's\"\n",
        "  elif df_c.Year[i] < 2010:\n",
        "    df_c.Decade[i] = \"2000's\"\n",
        "  else:\n",
        "    df_c.Decade[i] = \"2010-2020's\""
      ],
      "metadata": {
        "id": "PFP5GaCJwjEx",
        "colab": {
          "base_uri": "https://localhost:8080/"
        },
        "outputId": "b8fd620c-0d90-4b41-9288-b0b168eca304"
      },
      "execution_count": 49,
      "outputs": [
        {
          "output_type": "stream",
          "name": "stderr",
          "text": [
            "<ipython-input-49-0bd906c06931>:11: SettingWithCopyWarning: \n",
            "A value is trying to be set on a copy of a slice from a DataFrame\n",
            "\n",
            "See the caveats in the documentation: https://pandas.pydata.org/pandas-docs/stable/user_guide/indexing.html#returning-a-view-versus-a-copy\n",
            "  df_c.Decade[i] = \"2000's\"\n",
            "<ipython-input-49-0bd906c06931>:13: SettingWithCopyWarning: \n",
            "A value is trying to be set on a copy of a slice from a DataFrame\n",
            "\n",
            "See the caveats in the documentation: https://pandas.pydata.org/pandas-docs/stable/user_guide/indexing.html#returning-a-view-versus-a-copy\n",
            "  df_c.Decade[i] = \"2010-2020's\"\n",
            "<ipython-input-49-0bd906c06931>:9: SettingWithCopyWarning: \n",
            "A value is trying to be set on a copy of a slice from a DataFrame\n",
            "\n",
            "See the caveats in the documentation: https://pandas.pydata.org/pandas-docs/stable/user_guide/indexing.html#returning-a-view-versus-a-copy\n",
            "  df_c.Decade[i] = \"1990's\"\n",
            "<ipython-input-49-0bd906c06931>:7: SettingWithCopyWarning: \n",
            "A value is trying to be set on a copy of a slice from a DataFrame\n",
            "\n",
            "See the caveats in the documentation: https://pandas.pydata.org/pandas-docs/stable/user_guide/indexing.html#returning-a-view-versus-a-copy\n",
            "  df_c.Decade[i] = \"1980's\"\n"
          ]
        }
      ]
    },
    {
      "cell_type": "code",
      "source": [
        "df_c['Decade'].value_counts()"
      ],
      "metadata": {
        "colab": {
          "base_uri": "https://localhost:8080/"
        },
        "id": "d38Y2roqqdqy",
        "outputId": "05a5158c-2202-4668-ffd4-35203152cfd0"
      },
      "execution_count": 50,
      "outputs": [
        {
          "output_type": "execute_result",
          "data": {
            "text/plain": [
              "2000's         9100\n",
              "2010-2020's    5087\n",
              "1990's         1751\n",
              "1980's          203\n",
              "Name: Decade, dtype: int64"
            ]
          },
          "metadata": {},
          "execution_count": 50
        }
      ]
    },
    {
      "cell_type": "code",
      "source": [
        "pd.crosstab(df_c.Decade, df_c.Genre, margins=True)"
      ],
      "metadata": {
        "colab": {
          "base_uri": "https://localhost:8080/",
          "height": 281
        },
        "id": "i8Nnk-3Fzwd0",
        "outputId": "db085933-17cb-487b-cd62-bd55cf263480"
      },
      "execution_count": 51,
      "outputs": [
        {
          "output_type": "execute_result",
          "data": {
            "text/plain": [
              "Genre        Action  Adventure  Fighting  Misc  Platform  Puzzle  Racing  \\\n",
              "Decade                                                                     \n",
              "1980's           66          2         4     8        32      19       8   \n",
              "1990's          158         96       191   115       124      71     179   \n",
              "2000's         1573        629       440   991       559     356     791   \n",
              "2010-2020's    1429        537       194   557       150     112     231   \n",
              "All            3226       1264       829  1671       865     558    1209   \n",
              "\n",
              "Genre        Role-Playing  Shooter  Simulation  Sports  Strategy    All  \n",
              "Decade                                                                   \n",
              "1980's                  9       30           3      22         0    203  \n",
              "1990's                171      136          86     303       121   1751  \n",
              "2000's                728      712         547    1397       377   9100  \n",
              "2010-2020's           549      390         205     567       166   5087  \n",
              "All                  1457     1268         841    2289       664  16141  "
            ],
            "text/html": [
              "\n",
              "  <div id=\"df-c3ae0f3c-89b0-4eb3-89ee-0fadf2e39ce4\">\n",
              "    <div class=\"colab-df-container\">\n",
              "      <div>\n",
              "<style scoped>\n",
              "    .dataframe tbody tr th:only-of-type {\n",
              "        vertical-align: middle;\n",
              "    }\n",
              "\n",
              "    .dataframe tbody tr th {\n",
              "        vertical-align: top;\n",
              "    }\n",
              "\n",
              "    .dataframe thead th {\n",
              "        text-align: right;\n",
              "    }\n",
              "</style>\n",
              "<table border=\"1\" class=\"dataframe\">\n",
              "  <thead>\n",
              "    <tr style=\"text-align: right;\">\n",
              "      <th>Genre</th>\n",
              "      <th>Action</th>\n",
              "      <th>Adventure</th>\n",
              "      <th>Fighting</th>\n",
              "      <th>Misc</th>\n",
              "      <th>Platform</th>\n",
              "      <th>Puzzle</th>\n",
              "      <th>Racing</th>\n",
              "      <th>Role-Playing</th>\n",
              "      <th>Shooter</th>\n",
              "      <th>Simulation</th>\n",
              "      <th>Sports</th>\n",
              "      <th>Strategy</th>\n",
              "      <th>All</th>\n",
              "    </tr>\n",
              "    <tr>\n",
              "      <th>Decade</th>\n",
              "      <th></th>\n",
              "      <th></th>\n",
              "      <th></th>\n",
              "      <th></th>\n",
              "      <th></th>\n",
              "      <th></th>\n",
              "      <th></th>\n",
              "      <th></th>\n",
              "      <th></th>\n",
              "      <th></th>\n",
              "      <th></th>\n",
              "      <th></th>\n",
              "      <th></th>\n",
              "    </tr>\n",
              "  </thead>\n",
              "  <tbody>\n",
              "    <tr>\n",
              "      <th>1980's</th>\n",
              "      <td>66</td>\n",
              "      <td>2</td>\n",
              "      <td>4</td>\n",
              "      <td>8</td>\n",
              "      <td>32</td>\n",
              "      <td>19</td>\n",
              "      <td>8</td>\n",
              "      <td>9</td>\n",
              "      <td>30</td>\n",
              "      <td>3</td>\n",
              "      <td>22</td>\n",
              "      <td>0</td>\n",
              "      <td>203</td>\n",
              "    </tr>\n",
              "    <tr>\n",
              "      <th>1990's</th>\n",
              "      <td>158</td>\n",
              "      <td>96</td>\n",
              "      <td>191</td>\n",
              "      <td>115</td>\n",
              "      <td>124</td>\n",
              "      <td>71</td>\n",
              "      <td>179</td>\n",
              "      <td>171</td>\n",
              "      <td>136</td>\n",
              "      <td>86</td>\n",
              "      <td>303</td>\n",
              "      <td>121</td>\n",
              "      <td>1751</td>\n",
              "    </tr>\n",
              "    <tr>\n",
              "      <th>2000's</th>\n",
              "      <td>1573</td>\n",
              "      <td>629</td>\n",
              "      <td>440</td>\n",
              "      <td>991</td>\n",
              "      <td>559</td>\n",
              "      <td>356</td>\n",
              "      <td>791</td>\n",
              "      <td>728</td>\n",
              "      <td>712</td>\n",
              "      <td>547</td>\n",
              "      <td>1397</td>\n",
              "      <td>377</td>\n",
              "      <td>9100</td>\n",
              "    </tr>\n",
              "    <tr>\n",
              "      <th>2010-2020's</th>\n",
              "      <td>1429</td>\n",
              "      <td>537</td>\n",
              "      <td>194</td>\n",
              "      <td>557</td>\n",
              "      <td>150</td>\n",
              "      <td>112</td>\n",
              "      <td>231</td>\n",
              "      <td>549</td>\n",
              "      <td>390</td>\n",
              "      <td>205</td>\n",
              "      <td>567</td>\n",
              "      <td>166</td>\n",
              "      <td>5087</td>\n",
              "    </tr>\n",
              "    <tr>\n",
              "      <th>All</th>\n",
              "      <td>3226</td>\n",
              "      <td>1264</td>\n",
              "      <td>829</td>\n",
              "      <td>1671</td>\n",
              "      <td>865</td>\n",
              "      <td>558</td>\n",
              "      <td>1209</td>\n",
              "      <td>1457</td>\n",
              "      <td>1268</td>\n",
              "      <td>841</td>\n",
              "      <td>2289</td>\n",
              "      <td>664</td>\n",
              "      <td>16141</td>\n",
              "    </tr>\n",
              "  </tbody>\n",
              "</table>\n",
              "</div>\n",
              "      <button class=\"colab-df-convert\" onclick=\"convertToInteractive('df-c3ae0f3c-89b0-4eb3-89ee-0fadf2e39ce4')\"\n",
              "              title=\"Convert this dataframe to an interactive table.\"\n",
              "              style=\"display:none;\">\n",
              "        \n",
              "  <svg xmlns=\"http://www.w3.org/2000/svg\" height=\"24px\"viewBox=\"0 0 24 24\"\n",
              "       width=\"24px\">\n",
              "    <path d=\"M0 0h24v24H0V0z\" fill=\"none\"/>\n",
              "    <path d=\"M18.56 5.44l.94 2.06.94-2.06 2.06-.94-2.06-.94-.94-2.06-.94 2.06-2.06.94zm-11 1L8.5 8.5l.94-2.06 2.06-.94-2.06-.94L8.5 2.5l-.94 2.06-2.06.94zm10 10l.94 2.06.94-2.06 2.06-.94-2.06-.94-.94-2.06-.94 2.06-2.06.94z\"/><path d=\"M17.41 7.96l-1.37-1.37c-.4-.4-.92-.59-1.43-.59-.52 0-1.04.2-1.43.59L10.3 9.45l-7.72 7.72c-.78.78-.78 2.05 0 2.83L4 21.41c.39.39.9.59 1.41.59.51 0 1.02-.2 1.41-.59l7.78-7.78 2.81-2.81c.8-.78.8-2.07 0-2.86zM5.41 20L4 18.59l7.72-7.72 1.47 1.35L5.41 20z\"/>\n",
              "  </svg>\n",
              "      </button>\n",
              "      \n",
              "  <style>\n",
              "    .colab-df-container {\n",
              "      display:flex;\n",
              "      flex-wrap:wrap;\n",
              "      gap: 12px;\n",
              "    }\n",
              "\n",
              "    .colab-df-convert {\n",
              "      background-color: #E8F0FE;\n",
              "      border: none;\n",
              "      border-radius: 50%;\n",
              "      cursor: pointer;\n",
              "      display: none;\n",
              "      fill: #1967D2;\n",
              "      height: 32px;\n",
              "      padding: 0 0 0 0;\n",
              "      width: 32px;\n",
              "    }\n",
              "\n",
              "    .colab-df-convert:hover {\n",
              "      background-color: #E2EBFA;\n",
              "      box-shadow: 0px 1px 2px rgba(60, 64, 67, 0.3), 0px 1px 3px 1px rgba(60, 64, 67, 0.15);\n",
              "      fill: #174EA6;\n",
              "    }\n",
              "\n",
              "    [theme=dark] .colab-df-convert {\n",
              "      background-color: #3B4455;\n",
              "      fill: #D2E3FC;\n",
              "    }\n",
              "\n",
              "    [theme=dark] .colab-df-convert:hover {\n",
              "      background-color: #434B5C;\n",
              "      box-shadow: 0px 1px 3px 1px rgba(0, 0, 0, 0.15);\n",
              "      filter: drop-shadow(0px 1px 2px rgba(0, 0, 0, 0.3));\n",
              "      fill: #FFFFFF;\n",
              "    }\n",
              "  </style>\n",
              "\n",
              "      <script>\n",
              "        const buttonEl =\n",
              "          document.querySelector('#df-c3ae0f3c-89b0-4eb3-89ee-0fadf2e39ce4 button.colab-df-convert');\n",
              "        buttonEl.style.display =\n",
              "          google.colab.kernel.accessAllowed ? 'block' : 'none';\n",
              "\n",
              "        async function convertToInteractive(key) {\n",
              "          const element = document.querySelector('#df-c3ae0f3c-89b0-4eb3-89ee-0fadf2e39ce4');\n",
              "          const dataTable =\n",
              "            await google.colab.kernel.invokeFunction('convertToInteractive',\n",
              "                                                     [key], {});\n",
              "          if (!dataTable) return;\n",
              "\n",
              "          const docLinkHtml = 'Like what you see? Visit the ' +\n",
              "            '<a target=\"_blank\" href=https://colab.research.google.com/notebooks/data_table.ipynb>data table notebook</a>'\n",
              "            + ' to learn more about interactive tables.';\n",
              "          element.innerHTML = '';\n",
              "          dataTable['output_type'] = 'display_data';\n",
              "          await google.colab.output.renderOutput(dataTable, element);\n",
              "          const docLink = document.createElement('div');\n",
              "          docLink.innerHTML = docLinkHtml;\n",
              "          element.appendChild(docLink);\n",
              "        }\n",
              "      </script>\n",
              "    </div>\n",
              "  </div>\n",
              "  "
            ]
          },
          "metadata": {},
          "execution_count": 51
        }
      ]
    },
    {
      "cell_type": "code",
      "source": [
        "crt = pd.crosstab(df_c.Decade, df_c.Genre, normalize = 'index')\n",
        "crt"
      ],
      "metadata": {
        "colab": {
          "base_uri": "https://localhost:8080/",
          "height": 250
        },
        "id": "Zb3fAwN-0Q7k",
        "outputId": "88e08fb2-2c50-4313-e269-47000047296f"
      },
      "execution_count": 52,
      "outputs": [
        {
          "output_type": "execute_result",
          "data": {
            "text/plain": [
              "Genre          Action  Adventure  Fighting      Misc  Platform    Puzzle  \\\n",
              "Decade                                                                     \n",
              "1980's       0.325123   0.009852  0.019704  0.039409  0.157635  0.093596   \n",
              "1990's       0.090234   0.054826  0.109081  0.065677  0.070817  0.040548   \n",
              "2000's       0.172857   0.069121  0.048352  0.108901  0.061429  0.039121   \n",
              "2010-2020's  0.280912   0.105563  0.038136  0.109495  0.029487  0.022017   \n",
              "\n",
              "Genre          Racing  Role-Playing   Shooter  Simulation    Sports  Strategy  \n",
              "Decade                                                                         \n",
              "1980's       0.039409      0.044335  0.147783    0.014778  0.108374  0.000000  \n",
              "1990's       0.102227      0.097658  0.077670    0.049115  0.173044  0.069103  \n",
              "2000's       0.086923      0.080000  0.078242    0.060110  0.153516  0.041429  \n",
              "2010-2020's  0.045410      0.107922  0.076666    0.040299  0.111461  0.032632  "
            ],
            "text/html": [
              "\n",
              "  <div id=\"df-61c6d0db-be8f-4b78-8579-d06306712bd3\">\n",
              "    <div class=\"colab-df-container\">\n",
              "      <div>\n",
              "<style scoped>\n",
              "    .dataframe tbody tr th:only-of-type {\n",
              "        vertical-align: middle;\n",
              "    }\n",
              "\n",
              "    .dataframe tbody tr th {\n",
              "        vertical-align: top;\n",
              "    }\n",
              "\n",
              "    .dataframe thead th {\n",
              "        text-align: right;\n",
              "    }\n",
              "</style>\n",
              "<table border=\"1\" class=\"dataframe\">\n",
              "  <thead>\n",
              "    <tr style=\"text-align: right;\">\n",
              "      <th>Genre</th>\n",
              "      <th>Action</th>\n",
              "      <th>Adventure</th>\n",
              "      <th>Fighting</th>\n",
              "      <th>Misc</th>\n",
              "      <th>Platform</th>\n",
              "      <th>Puzzle</th>\n",
              "      <th>Racing</th>\n",
              "      <th>Role-Playing</th>\n",
              "      <th>Shooter</th>\n",
              "      <th>Simulation</th>\n",
              "      <th>Sports</th>\n",
              "      <th>Strategy</th>\n",
              "    </tr>\n",
              "    <tr>\n",
              "      <th>Decade</th>\n",
              "      <th></th>\n",
              "      <th></th>\n",
              "      <th></th>\n",
              "      <th></th>\n",
              "      <th></th>\n",
              "      <th></th>\n",
              "      <th></th>\n",
              "      <th></th>\n",
              "      <th></th>\n",
              "      <th></th>\n",
              "      <th></th>\n",
              "      <th></th>\n",
              "    </tr>\n",
              "  </thead>\n",
              "  <tbody>\n",
              "    <tr>\n",
              "      <th>1980's</th>\n",
              "      <td>0.325123</td>\n",
              "      <td>0.009852</td>\n",
              "      <td>0.019704</td>\n",
              "      <td>0.039409</td>\n",
              "      <td>0.157635</td>\n",
              "      <td>0.093596</td>\n",
              "      <td>0.039409</td>\n",
              "      <td>0.044335</td>\n",
              "      <td>0.147783</td>\n",
              "      <td>0.014778</td>\n",
              "      <td>0.108374</td>\n",
              "      <td>0.000000</td>\n",
              "    </tr>\n",
              "    <tr>\n",
              "      <th>1990's</th>\n",
              "      <td>0.090234</td>\n",
              "      <td>0.054826</td>\n",
              "      <td>0.109081</td>\n",
              "      <td>0.065677</td>\n",
              "      <td>0.070817</td>\n",
              "      <td>0.040548</td>\n",
              "      <td>0.102227</td>\n",
              "      <td>0.097658</td>\n",
              "      <td>0.077670</td>\n",
              "      <td>0.049115</td>\n",
              "      <td>0.173044</td>\n",
              "      <td>0.069103</td>\n",
              "    </tr>\n",
              "    <tr>\n",
              "      <th>2000's</th>\n",
              "      <td>0.172857</td>\n",
              "      <td>0.069121</td>\n",
              "      <td>0.048352</td>\n",
              "      <td>0.108901</td>\n",
              "      <td>0.061429</td>\n",
              "      <td>0.039121</td>\n",
              "      <td>0.086923</td>\n",
              "      <td>0.080000</td>\n",
              "      <td>0.078242</td>\n",
              "      <td>0.060110</td>\n",
              "      <td>0.153516</td>\n",
              "      <td>0.041429</td>\n",
              "    </tr>\n",
              "    <tr>\n",
              "      <th>2010-2020's</th>\n",
              "      <td>0.280912</td>\n",
              "      <td>0.105563</td>\n",
              "      <td>0.038136</td>\n",
              "      <td>0.109495</td>\n",
              "      <td>0.029487</td>\n",
              "      <td>0.022017</td>\n",
              "      <td>0.045410</td>\n",
              "      <td>0.107922</td>\n",
              "      <td>0.076666</td>\n",
              "      <td>0.040299</td>\n",
              "      <td>0.111461</td>\n",
              "      <td>0.032632</td>\n",
              "    </tr>\n",
              "  </tbody>\n",
              "</table>\n",
              "</div>\n",
              "      <button class=\"colab-df-convert\" onclick=\"convertToInteractive('df-61c6d0db-be8f-4b78-8579-d06306712bd3')\"\n",
              "              title=\"Convert this dataframe to an interactive table.\"\n",
              "              style=\"display:none;\">\n",
              "        \n",
              "  <svg xmlns=\"http://www.w3.org/2000/svg\" height=\"24px\"viewBox=\"0 0 24 24\"\n",
              "       width=\"24px\">\n",
              "    <path d=\"M0 0h24v24H0V0z\" fill=\"none\"/>\n",
              "    <path d=\"M18.56 5.44l.94 2.06.94-2.06 2.06-.94-2.06-.94-.94-2.06-.94 2.06-2.06.94zm-11 1L8.5 8.5l.94-2.06 2.06-.94-2.06-.94L8.5 2.5l-.94 2.06-2.06.94zm10 10l.94 2.06.94-2.06 2.06-.94-2.06-.94-.94-2.06-.94 2.06-2.06.94z\"/><path d=\"M17.41 7.96l-1.37-1.37c-.4-.4-.92-.59-1.43-.59-.52 0-1.04.2-1.43.59L10.3 9.45l-7.72 7.72c-.78.78-.78 2.05 0 2.83L4 21.41c.39.39.9.59 1.41.59.51 0 1.02-.2 1.41-.59l7.78-7.78 2.81-2.81c.8-.78.8-2.07 0-2.86zM5.41 20L4 18.59l7.72-7.72 1.47 1.35L5.41 20z\"/>\n",
              "  </svg>\n",
              "      </button>\n",
              "      \n",
              "  <style>\n",
              "    .colab-df-container {\n",
              "      display:flex;\n",
              "      flex-wrap:wrap;\n",
              "      gap: 12px;\n",
              "    }\n",
              "\n",
              "    .colab-df-convert {\n",
              "      background-color: #E8F0FE;\n",
              "      border: none;\n",
              "      border-radius: 50%;\n",
              "      cursor: pointer;\n",
              "      display: none;\n",
              "      fill: #1967D2;\n",
              "      height: 32px;\n",
              "      padding: 0 0 0 0;\n",
              "      width: 32px;\n",
              "    }\n",
              "\n",
              "    .colab-df-convert:hover {\n",
              "      background-color: #E2EBFA;\n",
              "      box-shadow: 0px 1px 2px rgba(60, 64, 67, 0.3), 0px 1px 3px 1px rgba(60, 64, 67, 0.15);\n",
              "      fill: #174EA6;\n",
              "    }\n",
              "\n",
              "    [theme=dark] .colab-df-convert {\n",
              "      background-color: #3B4455;\n",
              "      fill: #D2E3FC;\n",
              "    }\n",
              "\n",
              "    [theme=dark] .colab-df-convert:hover {\n",
              "      background-color: #434B5C;\n",
              "      box-shadow: 0px 1px 3px 1px rgba(0, 0, 0, 0.15);\n",
              "      filter: drop-shadow(0px 1px 2px rgba(0, 0, 0, 0.3));\n",
              "      fill: #FFFFFF;\n",
              "    }\n",
              "  </style>\n",
              "\n",
              "      <script>\n",
              "        const buttonEl =\n",
              "          document.querySelector('#df-61c6d0db-be8f-4b78-8579-d06306712bd3 button.colab-df-convert');\n",
              "        buttonEl.style.display =\n",
              "          google.colab.kernel.accessAllowed ? 'block' : 'none';\n",
              "\n",
              "        async function convertToInteractive(key) {\n",
              "          const element = document.querySelector('#df-61c6d0db-be8f-4b78-8579-d06306712bd3');\n",
              "          const dataTable =\n",
              "            await google.colab.kernel.invokeFunction('convertToInteractive',\n",
              "                                                     [key], {});\n",
              "          if (!dataTable) return;\n",
              "\n",
              "          const docLinkHtml = 'Like what you see? Visit the ' +\n",
              "            '<a target=\"_blank\" href=https://colab.research.google.com/notebooks/data_table.ipynb>data table notebook</a>'\n",
              "            + ' to learn more about interactive tables.';\n",
              "          element.innerHTML = '';\n",
              "          dataTable['output_type'] = 'display_data';\n",
              "          await google.colab.output.renderOutput(dataTable, element);\n",
              "          const docLink = document.createElement('div');\n",
              "          docLink.innerHTML = docLinkHtml;\n",
              "          element.appendChild(docLink);\n",
              "        }\n",
              "      </script>\n",
              "    </div>\n",
              "  </div>\n",
              "  "
            ]
          },
          "metadata": {},
          "execution_count": 52
        }
      ]
    },
    {
      "cell_type": "code",
      "source": [
        "plt.figure(figsize=(10, 8))\n",
        "sns.heatmap(crt).set_title('Genre - Decade Heatmap')"
      ],
      "metadata": {
        "colab": {
          "base_uri": "https://localhost:8080/",
          "height": 582
        },
        "id": "CqhwcyZX04JL",
        "outputId": "2a4b59c0-c7c8-476d-9230-547926badcc8"
      },
      "execution_count": 53,
      "outputs": [
        {
          "output_type": "execute_result",
          "data": {
            "text/plain": [
              "Text(0.5, 1.0, 'Genre - Decade Heatmap')"
            ]
          },
          "metadata": {},
          "execution_count": 53
        },
        {
          "output_type": "display_data",
          "data": {
            "text/plain": [
              "<Figure size 720x576 with 2 Axes>"
            ],
            "image/png": "[encoded data removed]"
          },
          "metadata": {
            "needs_background": "light"
          }
        }
      ]
    },
    {
      "cell_type": "code",
      "source": [
        "stats.chi2_contingency(observed = crt)"
      ],
      "metadata": {
        "colab": {
          "base_uri": "https://localhost:8080/"
        },
        "id": "XWRfqFLfEZL9",
        "outputId": "02321107-77de-4190-d48c-c82f748c7d80"
      },
      "execution_count": 54,
      "outputs": [
        {
          "output_type": "execute_result",
          "data": {
            "text/plain": [
              "(0.7599572590948029,\n",
              " 1.0,\n",
              " 33,\n",
              " array([[0.21728164, 0.05984053, 0.05381826, 0.08087038, 0.07984191,\n",
              "         0.04882053, 0.06849228, 0.0824789 , 0.09509023, 0.04107545,\n",
              "         0.13659886, 0.03579104],\n",
              "        [0.21728164, 0.05984053, 0.05381826, 0.08087038, 0.07984191,\n",
              "         0.04882053, 0.06849228, 0.0824789 , 0.09509023, 0.04107545,\n",
              "         0.13659886, 0.03579104],\n",
              "        [0.21728164, 0.05984053, 0.05381826, 0.08087038, 0.07984191,\n",
              "         0.04882053, 0.06849228, 0.0824789 , 0.09509023, 0.04107545,\n",
              "         0.13659886, 0.03579104],\n",
              "        [0.21728164, 0.05984053, 0.05381826, 0.08087038, 0.07984191,\n",
              "         0.04882053, 0.06849228, 0.0824789 , 0.09509023, 0.04107545,\n",
              "         0.13659886, 0.03579104]]))"
            ]
          },
          "metadata": {},
          "execution_count": 54
        }
      ]
    },
    {
      "cell_type": "markdown",
      "source": [
        "연도(Decade)와 장르(Genre) 간 관계가 있는지 확인하기 위해 카이제곱 검정을 시행한 결과,  \n",
        "Chi-Square 값이 0.76(소수점 둘째자리까지 반올림), P-value가 1.0으로  \n",
        "유의수준 0.05에서 귀무가설을 기각하지 못해  \n",
        "연도(Decade)와 장르(Genre) 간에 통계적으로 유의한 관련성은 없는 것으로 나타났다."
      ],
      "metadata": {
        "id": "UVjE8-AHErwO"
      }
    },
    {
      "cell_type": "markdown",
      "source": [
        "### 인기가 많은 게임에 대한 분석 및 시각화 프로세스\n",
        "총 출고량이 많을수록 인기가 많다고 정의"
      ],
      "metadata": {
        "id": "CZ7MvxNEudOY"
      }
    },
    {
      "cell_type": "code",
      "source": [
        "df_c.sort_values('Total_Sales', ascending = False).head(15)"
      ],
      "metadata": {
        "colab": {
          "base_uri": "https://localhost:8080/",
          "height": 598
        },
        "id": "eFT1-d20uhoy",
        "outputId": "92f1d6f7-3c29-4128-dbe4-7e6424aad8b3"
      },
      "execution_count": 55,
      "outputs": [
        {
          "output_type": "execute_result",
          "data": {
            "text/plain": [
              "                              Name Platform  Year         Genre Publisher  \\\n",
              "2838                    Wii Sports      Wii  2006        Sports  Nintendo   \n",
              "4088             Super Mario Bros.      NES  1985      Platform  Nintendo   \n",
              "12237               Mario Kart Wii      Wii  2008        Racing  Nintendo   \n",
              "3268             Wii Sports Resort      Wii  2009        Sports  Nintendo   \n",
              "7626      Pokemon Red/Pokemon Blue       GB  1996  Role-Playing  Nintendo   \n",
              "1180                        Tetris       GB  1989        Puzzle  Nintendo   \n",
              "6756         New Super Mario Bros.       DS  2006      Platform  Nintendo   \n",
              "2942                      Wii Play      Wii  2006          Misc  Nintendo   \n",
              "16076    New Super Mario Bros. Wii      Wii  2009      Platform  Nintendo   \n",
              "10213                    Duck Hunt      NES  1984       Shooter  Nintendo   \n",
              "10843                   Nintendogs       DS  2005    Simulation  Nintendo   \n",
              "10370                Mario Kart DS       DS  2005        Racing  Nintendo   \n",
              "9171   Pokemon Gold/Pokemon Silver       GB  1999  Role-Playing  Nintendo   \n",
              "3347                       Wii Fit      Wii  2007        Sports  Nintendo   \n",
              "10611                 Wii Fit Plus      Wii  2009        Sports  Nintendo   \n",
              "\n",
              "       NA_Sales  EU_Sales  JP_Sales  Other_Sales  Total_Sales  Decade  \n",
              "2838      41.49     29.02      3.77         8.46        82.74  2000's  \n",
              "4088      29.08      3.58      6.81         0.77        40.24  1980's  \n",
              "12237     15.85     12.88      3.79         3.31        35.83  2000's  \n",
              "3268      15.75     11.01      3.28         2.96        33.00  2000's  \n",
              "7626      11.27      8.89     10.22         1.00        31.38  1990's  \n",
              "1180      23.20      2.26      4.22         0.58        30.26  1980's  \n",
              "6756      11.38      9.23      6.50         2.90        30.01  2000's  \n",
              "2942      14.03      9.20      2.93         2.85        29.01  2000's  \n",
              "16076     14.59      7.06      4.70         2.26        28.61  2000's  \n",
              "10213     26.93      0.63      0.28         0.47        28.31  1980's  \n",
              "10843      9.07     11.00      1.93         2.75        24.75  2000's  \n",
              "10370      9.81      7.57      4.13         1.92        23.43  2000's  \n",
              "9171       9.00      6.18      7.20         0.71        23.09  1990's  \n",
              "3347       8.94      8.03      3.60         2.15        22.72  2000's  \n",
              "10611      9.09      8.59      2.53         1.79        22.00  2000's  "
            ],
            "text/html": [
              "\n",
              "  <div id=\"df-711487c9-c182-43ed-a5fa-107289215813\">\n",
              "    <div class=\"colab-df-container\">\n",
              "      <div>\n",
              "<style scoped>\n",
              "    .dataframe tbody tr th:only-of-type {\n",
              "        vertical-align: middle;\n",
              "    }\n",
              "\n",
              "    .dataframe tbody tr th {\n",
              "        vertical-align: top;\n",
              "    }\n",
              "\n",
              "    .dataframe thead th {\n",
              "        text-align: right;\n",
              "    }\n",
              "</style>\n",
              "<table border=\"1\" class=\"dataframe\">\n",
              "  <thead>\n",
              "    <tr style=\"text-align: right;\">\n",
              "      <th></th>\n",
              "      <th>Name</th>\n",
              "      <th>Platform</th>\n",
              "      <th>Year</th>\n",
              "      <th>Genre</th>\n",
              "      <th>Publisher</th>\n",
              "      <th>NA_Sales</th>\n",
              "      <th>EU_Sales</th>\n",
              "      <th>JP_Sales</th>\n",
              "      <th>Other_Sales</th>\n",
              "      <th>Total_Sales</th>\n",
              "      <th>Decade</th>\n",
              "    </tr>\n",
              "  </thead>\n",
              "  <tbody>\n",
              "    <tr>\n",
              "      <th>2838</th>\n",
              "      <td>Wii Sports</td>\n",
              "      <td>Wii</td>\n",
              "      <td>2006</td>\n",
              "      <td>Sports</td>\n",
              "      <td>Nintendo</td>\n",
              "      <td>41.49</td>\n",
              "      <td>29.02</td>\n",
              "      <td>3.77</td>\n",
              "      <td>8.46</td>\n",
              "      <td>82.74</td>\n",
              "      <td>2000's</td>\n",
              "    </tr>\n",
              "    <tr>\n",
              "      <th>4088</th>\n",
              "      <td>Super Mario Bros.</td>\n",
              "      <td>NES</td>\n",
              "      <td>1985</td>\n",
              "      <td>Platform</td>\n",
              "      <td>Nintendo</td>\n",
              "      <td>29.08</td>\n",
              "      <td>3.58</td>\n",
              "      <td>6.81</td>\n",
              "      <td>0.77</td>\n",
              "      <td>40.24</td>\n",
              "      <td>1980's</td>\n",
              "    </tr>\n",
              "    <tr>\n",
              "      <th>12237</th>\n",
              "      <td>Mario Kart Wii</td>\n",
              "      <td>Wii</td>\n",
              "      <td>2008</td>\n",
              "      <td>Racing</td>\n",
              "      <td>Nintendo</td>\n",
              "      <td>15.85</td>\n",
              "      <td>12.88</td>\n",
              "      <td>3.79</td>\n",
              "      <td>3.31</td>\n",
              "      <td>35.83</td>\n",
              "      <td>2000's</td>\n",
              "    </tr>\n",
              "    <tr>\n",
              "      <th>3268</th>\n",
              "      <td>Wii Sports Resort</td>\n",
              "      <td>Wii</td>\n",
              "      <td>2009</td>\n",
              "      <td>Sports</td>\n",
              "      <td>Nintendo</td>\n",
              "      <td>15.75</td>\n",
              "      <td>11.01</td>\n",
              "      <td>3.28</td>\n",
              "      <td>2.96</td>\n",
              "      <td>33.00</td>\n",
              "      <td>2000's</td>\n",
              "    </tr>\n",
              "    <tr>\n",
              "      <th>7626</th>\n",
              "      <td>Pokemon Red/Pokemon Blue</td>\n",
              "      <td>GB</td>\n",
              "      <td>1996</td>\n",
              "      <td>Role-Playing</td>\n",
              "      <td>Nintendo</td>\n",
              "      <td>11.27</td>\n",
              "      <td>8.89</td>\n",
              "      <td>10.22</td>\n",
              "      <td>1.00</td>\n",
              "      <td>31.38</td>\n",
              "      <td>1990's</td>\n",
              "    </tr>\n",
              "    <tr>\n",
              "      <th>1180</th>\n",
              "      <td>Tetris</td>\n",
              "      <td>GB</td>\n",
              "      <td>1989</td>\n",
              "      <td>Puzzle</td>\n",
              "      <td>Nintendo</td>\n",
              "      <td>23.20</td>\n",
              "      <td>2.26</td>\n",
              "      <td>4.22</td>\n",
              "      <td>0.58</td>\n",
              "      <td>30.26</td>\n",
              "      <td>1980's</td>\n",
              "    </tr>\n",
              "    <tr>\n",
              "      <th>6756</th>\n",
              "      <td>New Super Mario Bros.</td>\n",
              "      <td>DS</td>\n",
              "      <td>2006</td>\n",
              "      <td>Platform</td>\n",
              "      <td>Nintendo</td>\n",
              "      <td>11.38</td>\n",
              "      <td>9.23</td>\n",
              "      <td>6.50</td>\n",
              "      <td>2.90</td>\n",
              "      <td>30.01</td>\n",
              "      <td>2000's</td>\n",
              "    </tr>\n",
              "    <tr>\n",
              "      <th>2942</th>\n",
              "      <td>Wii Play</td>\n",
              "      <td>Wii</td>\n",
              "      <td>2006</td>\n",
              "      <td>Misc</td>\n",
              "      <td>Nintendo</td>\n",
              "      <td>14.03</td>\n",
              "      <td>9.20</td>\n",
              "      <td>2.93</td>\n",
              "      <td>2.85</td>\n",
              "      <td>29.01</td>\n",
              "      <td>2000's</td>\n",
              "    </tr>\n",
              "    <tr>\n",
              "      <th>16076</th>\n",
              "      <td>New Super Mario Bros. Wii</td>\n",
              "      <td>Wii</td>\n",
              "      <td>2009</td>\n",
              "      <td>Platform</td>\n",
              "      <td>Nintendo</td>\n",
              "      <td>14.59</td>\n",
              "      <td>7.06</td>\n",
              "      <td>4.70</td>\n",
              "      <td>2.26</td>\n",
              "      <td>28.61</td>\n",
              "      <td>2000's</td>\n",
              "    </tr>\n",
              "    <tr>\n",
              "      <th>10213</th>\n",
              "      <td>Duck Hunt</td>\n",
              "      <td>NES</td>\n",
              "      <td>1984</td>\n",
              "      <td>Shooter</td>\n",
              "      <td>Nintendo</td>\n",
              "      <td>26.93</td>\n",
              "      <td>0.63</td>\n",
              "      <td>0.28</td>\n",
              "      <td>0.47</td>\n",
              "      <td>28.31</td>\n",
              "      <td>1980's</td>\n",
              "    </tr>\n",
              "    <tr>\n",
              "      <th>10843</th>\n",
              "      <td>Nintendogs</td>\n",
              "      <td>DS</td>\n",
              "      <td>2005</td>\n",
              "      <td>Simulation</td>\n",
              "      <td>Nintendo</td>\n",
              "      <td>9.07</td>\n",
              "      <td>11.00</td>\n",
              "      <td>1.93</td>\n",
              "      <td>2.75</td>\n",
              "      <td>24.75</td>\n",
              "      <td>2000's</td>\n",
              "    </tr>\n",
              "    <tr>\n",
              "      <th>10370</th>\n",
              "      <td>Mario Kart DS</td>\n",
              "      <td>DS</td>\n",
              "      <td>2005</td>\n",
              "      <td>Racing</td>\n",
              "      <td>Nintendo</td>\n",
              "      <td>9.81</td>\n",
              "      <td>7.57</td>\n",
              "      <td>4.13</td>\n",
              "      <td>1.92</td>\n",
              "      <td>23.43</td>\n",
              "      <td>2000's</td>\n",
              "    </tr>\n",
              "    <tr>\n",
              "      <th>9171</th>\n",
              "      <td>Pokemon Gold/Pokemon Silver</td>\n",
              "      <td>GB</td>\n",
              "      <td>1999</td>\n",
              "      <td>Role-Playing</td>\n",
              "      <td>Nintendo</td>\n",
              "      <td>9.00</td>\n",
              "      <td>6.18</td>\n",
              "      <td>7.20</td>\n",
              "      <td>0.71</td>\n",
              "      <td>23.09</td>\n",
              "      <td>1990's</td>\n",
              "    </tr>\n",
              "    <tr>\n",
              "      <th>3347</th>\n",
              "      <td>Wii Fit</td>\n",
              "      <td>Wii</td>\n",
              "      <td>2007</td>\n",
              "      <td>Sports</td>\n",
              "      <td>Nintendo</td>\n",
              "      <td>8.94</td>\n",
              "      <td>8.03</td>\n",
              "      <td>3.60</td>\n",
              "      <td>2.15</td>\n",
              "      <td>22.72</td>\n",
              "      <td>2000's</td>\n",
              "    </tr>\n",
              "    <tr>\n",
              "      <th>10611</th>\n",
              "      <td>Wii Fit Plus</td>\n",
              "      <td>Wii</td>\n",
              "      <td>2009</td>\n",
              "      <td>Sports</td>\n",
              "      <td>Nintendo</td>\n",
              "      <td>9.09</td>\n",
              "      <td>8.59</td>\n",
              "      <td>2.53</td>\n",
              "      <td>1.79</td>\n",
              "      <td>22.00</td>\n",
              "      <td>2000's</td>\n",
              "    </tr>\n",
              "  </tbody>\n",
              "</table>\n",
              "</div>\n",
              "      <button class=\"colab-df-convert\" onclick=\"convertToInteractive('df-711487c9-c182-43ed-a5fa-107289215813')\"\n",
              "              title=\"Convert this dataframe to an interactive table.\"\n",
              "              style=\"display:none;\">\n",
              "        \n",
              "  <svg xmlns=\"http://www.w3.org/2000/svg\" height=\"24px\"viewBox=\"0 0 24 24\"\n",
              "       width=\"24px\">\n",
              "    <path d=\"M0 0h24v24H0V0z\" fill=\"none\"/>\n",
              "    <path d=\"M18.56 5.44l.94 2.06.94-2.06 2.06-.94-2.06-.94-.94-2.06-.94 2.06-2.06.94zm-11 1L8.5 8.5l.94-2.06 2.06-.94-2.06-.94L8.5 2.5l-.94 2.06-2.06.94zm10 10l.94 2.06.94-2.06 2.06-.94-2.06-.94-.94-2.06-.94 2.06-2.06.94z\"/><path d=\"M17.41 7.96l-1.37-1.37c-.4-.4-.92-.59-1.43-.59-.52 0-1.04.2-1.43.59L10.3 9.45l-7.72 7.72c-.78.78-.78 2.05 0 2.83L4 21.41c.39.39.9.59 1.41.59.51 0 1.02-.2 1.41-.59l7.78-7.78 2.81-2.81c.8-.78.8-2.07 0-2.86zM5.41 20L4 18.59l7.72-7.72 1.47 1.35L5.41 20z\"/>\n",
              "  </svg>\n",
              "      </button>\n",
              "      \n",
              "  <style>\n",
              "    .colab-df-container {\n",
              "      display:flex;\n",
              "      flex-wrap:wrap;\n",
              "      gap: 12px;\n",
              "    }\n",
              "\n",
              "    .colab-df-convert {\n",
              "      background-color: #E8F0FE;\n",
              "      border: none;\n",
              "      border-radius: 50%;\n",
              "      cursor: pointer;\n",
              "      display: none;\n",
              "      fill: #1967D2;\n",
              "      height: 32px;\n",
              "      padding: 0 0 0 0;\n",
              "      width: 32px;\n",
              "    }\n",
              "\n",
              "    .colab-df-convert:hover {\n",
              "      background-color: #E2EBFA;\n",
              "      box-shadow: 0px 1px 2px rgba(60, 64, 67, 0.3), 0px 1px 3px 1px rgba(60, 64, 67, 0.15);\n",
              "      fill: #174EA6;\n",
              "    }\n",
              "\n",
              "    [theme=dark] .colab-df-convert {\n",
              "      background-color: #3B4455;\n",
              "      fill: #D2E3FC;\n",
              "    }\n",
              "\n",
              "    [theme=dark] .colab-df-convert:hover {\n",
              "      background-color: #434B5C;\n",
              "      box-shadow: 0px 1px 3px 1px rgba(0, 0, 0, 0.15);\n",
              "      filter: drop-shadow(0px 1px 2px rgba(0, 0, 0, 0.3));\n",
              "      fill: #FFFFFF;\n",
              "    }\n",
              "  </style>\n",
              "\n",
              "      <script>\n",
              "        const buttonEl =\n",
              "          document.querySelector('#df-711487c9-c182-43ed-a5fa-107289215813 button.colab-df-convert');\n",
              "        buttonEl.style.display =\n",
              "          google.colab.kernel.accessAllowed ? 'block' : 'none';\n",
              "\n",
              "        async function convertToInteractive(key) {\n",
              "          const element = document.querySelector('#df-711487c9-c182-43ed-a5fa-107289215813');\n",
              "          const dataTable =\n",
              "            await google.colab.kernel.invokeFunction('convertToInteractive',\n",
              "                                                     [key], {});\n",
              "          if (!dataTable) return;\n",
              "\n",
              "          const docLinkHtml = 'Like what you see? Visit the ' +\n",
              "            '<a target=\"_blank\" href=https://colab.research.google.com/notebooks/data_table.ipynb>data table notebook</a>'\n",
              "            + ' to learn more about interactive tables.';\n",
              "          element.innerHTML = '';\n",
              "          dataTable['output_type'] = 'display_data';\n",
              "          await google.colab.output.renderOutput(dataTable, element);\n",
              "          const docLink = document.createElement('div');\n",
              "          docLink.innerHTML = docLinkHtml;\n",
              "          element.appendChild(docLink);\n",
              "        }\n",
              "      </script>\n",
              "    </div>\n",
              "  </div>\n",
              "  "
            ]
          },
          "metadata": {},
          "execution_count": 55
        }
      ]
    },
    {
      "cell_type": "markdown",
      "source": [
        "총 출고량이 많은 상위 15개의 게임을 확인해 보았을 때,  \n",
        "상위 15개의 게임들의 배급사가 모두 `Nintendo`인 것을 알 수 있다.  \n",
        "또한, 특정 지역에만 출고되지 않고 전 지역에 출고된 것을 확인할 수 있다.  \n",
        "`Wii Sports`는 2006년에 출시되었지만 총 출고량 약 82만건을 달성하였고  \n",
        "`Super Mario Bros.`는 1985년에 출시되고 꾸준히 사랑받아 총 출고량 약 40만건을 달성하였다.\n"
      ],
      "metadata": {
        "id": "cMdwW42VEit4"
      }
    },
    {
      "cell_type": "code",
      "source": [
        "df_c.sort_values('Total_Sales', ascending = False)[7:15].Total_Sales"
      ],
      "metadata": {
        "colab": {
          "base_uri": "https://localhost:8080/"
        },
        "id": "mC8yFsO1qD3l",
        "outputId": "714f30a4-d57e-430b-ce6b-0c703042798f"
      },
      "execution_count": 56,
      "outputs": [
        {
          "output_type": "execute_result",
          "data": {
            "text/plain": [
              "2942     29.01\n",
              "16076    28.61\n",
              "10213    28.31\n",
              "10843    24.75\n",
              "10370    23.43\n",
              "9171     23.09\n",
              "3347     22.72\n",
              "10611    22.00\n",
              "Name: Total_Sales, dtype: float64"
            ]
          },
          "metadata": {},
          "execution_count": 56
        }
      ]
    },
    {
      "cell_type": "code",
      "source": [
        "pop_15 = df_c.sort_values('Total_Sales', ascending = False)[:15]\n",
        "\n",
        "plt.figure(figsize=(8, 8))\n",
        "bar = plt.bar(pop_15.Name, pop_15.Total_Sales)\n",
        "for rect in bar:\n",
        "    height = rect.get_height()\n",
        "    plt.text(rect.get_x() + rect.get_width()/2.0, height, '%.1f' % height, ha='center', va='bottom', size = 11)\n",
        "plt.xticks(rotation=90)\n",
        "plt.title('Popular Game Top 15')\n",
        "plt.xlabel('Name')\n",
        "plt.ylabel('Total Sales (M)')\n",
        "\n",
        "plt.show()"
      ],
      "metadata": {
        "colab": {
          "base_uri": "https://localhost:8080/",
          "height": 654
        },
        "id": "NpO_VBjHg6os",
        "outputId": "fa9ea084-babd-4329-af39-034765d46acd"
      },
      "execution_count": 57,
      "outputs": [
        {
          "output_type": "display_data",
          "data": {
            "text/plain": [
              "<Figure size 576x576 with 1 Axes>"
            ],
            "image/png": "[encoded data removed]"
          },
          "metadata": {
            "needs_background": "light"
          }
        }
      ]
    },
    {
      "cell_type": "code",
      "source": [
        "pop_200 = df_c.sort_values('Total_Sales', ascending = False)[:200]\n",
        "cnt = pop_200.Genre.value_counts()\n",
        "cnt = pd.DataFrame(cnt)\n",
        "\n",
        "plt.figure(figsize=(8, 8))\n",
        "wedgeprops={'width': 0.7, 'edgecolor': 'w'}\n",
        "plt.pie(cnt.Genre, autopct='%.1f%%', labels = cnt.index, startangle=180, counterclock=False, wedgeprops=wedgeprops);\n",
        "plt.title('Popular Game Genre');"
      ],
      "metadata": {
        "colab": {
          "base_uri": "https://localhost:8080/",
          "height": 482
        },
        "id": "AOdXTS0QkJY-",
        "outputId": "c80967b1-b219-4308-b881-536d9ce006bd"
      },
      "execution_count": 58,
      "outputs": [
        {
          "output_type": "display_data",
          "data": {
            "text/plain": [
              "<Figure size 576x576 with 1 Axes>"
            ],
            "image/png": "[encoded data removed]"
          },
          "metadata": {}
        }
      ]
    },
    {
      "cell_type": "markdown",
      "source": [
        "### 다음 분기에 어떤 게임을 설계해야 하는지 !"
      ],
      "metadata": {
        "id": "7JwlzBwkui60"
      }
    },
    {
      "cell_type": "markdown",
      "source": [
        "2023 2분기에\n",
        "1. Action 장르\n",
        "2. 전 세계 지역을 타겟으로\n",
        "3. Nintendo에 배급되도록\n",
        "4. Wii 플랫폼에 지원되도록  \n",
        "\n",
        "설계하면 게임이 흥행할 수 있는 조건을 모두 만족한다고 할 수 있다."
      ],
      "metadata": {
        "id": "nKGRBiG_rnmM"
      }
    },
    {
      "cell_type": "code",
      "source": [],
      "metadata": {
        "id": "8Ei_msVRh_ko"
      },
      "execution_count": 58,
      "outputs": []
    }
  ]
}